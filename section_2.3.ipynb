{
 "cells": [
  {
   "cell_type": "code",
   "execution_count": null,
   "id": "c5bb57dc",
   "metadata": {},
   "outputs": [],
   "source": [
    "from typing import Tuple, List, Callable, Set, Any\n",
    "from urllib.parse import urlparse"
   ]
  },
  {
   "cell_type": "code",
   "execution_count": null,
   "id": "6fdb4f15",
   "metadata": {},
   "outputs": [],
   "source": [
    "def http_program(url: str) -> bool:\n",
    "    supported_schemes = [\"http\", \"https\"]\n",
    "    result = urlparse(url)\n",
    "    if result.scheme not in supported_schemes:\n",
    "        raise ValueError(\"Scheme must be one of\" + repr(supported_schemes))\n",
    "\n",
    "    if result.netloc == \"\":\n",
    "        raise ValueError(\"Host must be non-empty\")\n",
    "\n",
    "    return True"
   ]
  },
  {
   "cell_type": "code",
   "execution_count": null,
   "id": "e7c0ed38",
   "metadata": {},
   "outputs": [
    {
     "data": {
      "text/plain": [
       "'n7$3nt/FN);>2Bkl?G*}D,h\"b@cVB4+4w4KNgbqp%bti b~NXT0]>@WzX[%\\\\g\\'n,]l,c'"
      ]
     },
     "execution_count": 3,
     "metadata": {},
     "output_type": "execute_result"
    }
   ],
   "source": [
    "from fuzzingbook.Fuzzer import fuzzer\n",
    "\n",
    "fuzzer(char_start=32, char_range=96)"
   ]
  },
  {
   "cell_type": "code",
   "execution_count": 4,
   "id": "15b3883b",
   "metadata": {},
   "outputs": [],
   "source": [
    "for i in range(1000):\n",
    "    try:\n",
    "        url = fuzzer()\n",
    "        result = http_program(url)\n",
    "    except ValueError:\n",
    "        pass"
   ]
  },
  {
   "cell_type": "code",
   "execution_count": null,
   "id": "bf7a7b8d",
   "metadata": {},
   "outputs": [
    {
     "name": "stdout",
     "output_type": "stream",
     "text": [
      "'A quick brownfox'\n",
      "'Aquick brown fox'\n",
      "'A quck brown fox'\n",
      "' quick brown fox'\n",
      "'A uick brown fox'\n",
      "'A quic brown fox'\n",
      "'A uick brown fox'\n",
      "'Aquick brown fox'\n",
      "'A quick brown fx'\n",
      "' quick brown fox'\n"
     ]
    }
   ],
   "source": [
    "import random\n",
    "\n",
    "\n",
    "def delete_random_character(s: str) -> str:\n",
    "    if s == \"\":\n",
    "        return s\n",
    "    pos = random.randint(0, len(s) - 1)\n",
    "\n",
    "    return s[:pos] + s[pos + 1 :]\n",
    "\n",
    "\n",
    "seed_input = \"A quick brown fox\"\n",
    "for i in range(10):\n",
    "    x = delete_random_character(seed_input)\n",
    "    print(repr(x))"
   ]
  },
  {
   "cell_type": "code",
   "execution_count": null,
   "id": "7222cc69",
   "metadata": {},
   "outputs": [
    {
     "name": "stdout",
     "output_type": "stream",
     "text": [
      "'A quick sbrown fox'\n",
      "'A q]uick brown fox'\n",
      "'A quick brown fox4'\n",
      "'AJ quick brown fox'\n",
      "'A quick brown fogx'\n",
      "'A qu ick brown fox'\n",
      "'A quic,k brown fox'\n",
      "'A quick brown f@ox'\n",
      "'A quick bro9wn fox'\n",
      "'+A quick brown fox'\n"
     ]
    }
   ],
   "source": [
    "def insert_random_character(s: str) -> str:\n",
    "    pos = random.randint(0, len(s))\n",
    "    random_character = chr(random.randrange(32, 127))\n",
    "    return s[:pos] + random_character + s[pos:]\n",
    "\n",
    "\n",
    "for i in range(10):\n",
    "    print(repr(insert_random_character(seed_input)))"
   ]
  },
  {
   "cell_type": "code",
   "execution_count": null,
   "id": "d15a768e",
   "metadata": {},
   "outputs": [
    {
     "name": "stdout",
     "output_type": "stream",
     "text": [
      "'A quici brown fox'\n",
      "'A q}ick brown fox'\n",
      "'A quick(brown fox'\n",
      "'A quick brown foh'\n",
      "'A quick brown fkx'\n",
      "'A quick brown foz'\n",
      "'A quick brgwn fox'\n",
      "'A`quick brown fox'\n",
      "'A quic{ brown fox'\n",
      "'A qUick brown fox'\n"
     ]
    }
   ],
   "source": [
    "def flip_random_character(s):\n",
    "    if s == \"\":\n",
    "        return s\n",
    "\n",
    "    pos = random.randint(0, len(s) - 1)\n",
    "    c = s[pos]\n",
    "    bit = 1 << random.randint(0, 6)\n",
    "    new_c = chr(ord(c) ^ bit)\n",
    "\n",
    "    return s[:pos] + new_c + s[pos + 1 :]\n",
    "\n",
    "\n",
    "for i in range(10):\n",
    "    print(repr(flip_random_character(seed_input)))"
   ]
  },
  {
   "cell_type": "code",
   "execution_count": null,
   "id": "e0354152",
   "metadata": {},
   "outputs": [
    {
     "name": "stdout",
     "output_type": "stream",
     "text": [
      "'A quick brow fox'\n",
      "'A quick brown f}ox'\n",
      "'A quick brown dox'\n",
      "'.A quick brown fox'\n",
      "'A quick brown ox'\n",
      "'HA quick brown fox'\n",
      "'A quick brown fo'\n",
      "'A quick brvown fox'\n",
      "'A quick brown fowx'\n",
      "'Q quick brown fox'\n"
     ]
    }
   ],
   "source": [
    "def mutate(s: str) -> str:\n",
    "    mutators = [\n",
    "        delete_random_character,\n",
    "        insert_random_character,\n",
    "        flip_random_character,\n",
    "    ]\n",
    "\n",
    "    mutator = random.choice(mutators)\n",
    "\n",
    "    return mutator(s)\n",
    "\n",
    "\n",
    "for _ in range(10):\n",
    "    print(repr(mutate(seed_input)))"
   ]
  },
  {
   "cell_type": "code",
   "execution_count": null,
   "id": "71656d41",
   "metadata": {},
   "outputs": [],
   "source": [
    "def is_valid_url(url: str) -> bool:\n",
    "    try:\n",
    "        result = http_program(url)\n",
    "        return True\n",
    "    except ValueError:\n",
    "        return False\n",
    "\n",
    "\n",
    "assert is_valid_url(\"http://www.google.com/search?q=fuzzing\")\n",
    "assert not is_valid_url(\"xyzzy\")"
   ]
  },
  {
   "cell_type": "code",
   "execution_count": 16,
   "id": "eb36c6c1",
   "metadata": {},
   "outputs": [],
   "source": [
    "seed_input = \"http://www.google.com/search?q=fuzzing\"\n",
    "valid_inputs = set()\n",
    "trials = 20\n",
    "\n",
    "for _ in range(trials):\n",
    "    inp = mutate(seed_input)\n",
    "    if is_valid_url(inp):\n",
    "        valid_inputs.add(inp)"
   ]
  },
  {
   "cell_type": "code",
   "execution_count": null,
   "id": "986d85a2",
   "metadata": {},
   "outputs": [
    {
     "data": {
      "text/plain": [
       "0.85"
      ]
     },
     "execution_count": 17,
     "metadata": {},
     "output_type": "execute_result"
    }
   ],
   "source": [
    "len(valid_inputs) / trials"
   ]
  },
  {
   "cell_type": "code",
   "execution_count": 20,
   "id": "e7c3d49e",
   "metadata": {},
   "outputs": [
    {
     "data": {
      "text/plain": [
       "10944"
      ]
     },
     "execution_count": 20,
     "metadata": {},
     "output_type": "execute_result"
    }
   ],
   "source": [
    "trials = 3 * 96 * len(seed_input)\n",
    "trials"
   ]
  },
  {
   "cell_type": "code",
   "execution_count": null,
   "id": "62467306",
   "metadata": {},
   "outputs": [
    {
     "name": "stdout",
     "output_type": "stream",
     "text": [
      "Success after 6673 trials in 0.013740928999823154 seconds\n"
     ]
    }
   ],
   "source": [
    "from fuzzingbook.Timer import Timer\n",
    "\n",
    "trials = 0\n",
    "with Timer() as t:\n",
    "    while True:\n",
    "        trials += 1\n",
    "        inp = mutate(seed_input)\n",
    "        if inp.startswith(\"https://\"):\n",
    "            print(\"Success after\", trials, \"trials in\", t.elapsed_time(), \"seconds\")\n",
    "            break"
   ]
  },
  {
   "cell_type": "code",
   "execution_count": 22,
   "id": "3db42b01",
   "metadata": {},
   "outputs": [
    {
     "name": "stdout",
     "output_type": "stream",
     "text": [
      "0 mutations: 'http://www.google.com/search?q=fuzzing'\n",
      "5 mutations: 'http://www.google.com/seargheq=fuzzin'\n",
      "10 mutations: 'htt?p:/o7ww.googl.com/seargheqfuzzin'\n",
      "15 mutations: 'htt?p:/osww.googl.com/%seargheq uzzin'\n",
      "20 mutations: 'htu?p:/osww.googlcom/%searghq uzxn'\n",
      "25 mutations: 'huu?p:/oswv.gmoglcom/searghq uz?xn'\n",
      "30 mutations: 'huu?p:/ols7v.gmoqglcZom/searghq uz?xn'\n",
      "35 mutations: 'huu?p:/ols7v.gmopglcXom/seargh^q fBuz?xn'\n",
      "40 mutations: 'huu?p:/o6s7P6.gmopglcXom/seargh^ fBuz?xn'\n",
      "45 mutations: 'huu?p:/k6s7P6gmopglcXom?searj^ fBuz?xn'\n"
     ]
    }
   ],
   "source": [
    "seed_input = \"http://www.google.com/search?q=fuzzing\"\n",
    "mutations = 50\n",
    "\n",
    "inp = seed_input\n",
    "for i in range(mutations):\n",
    "    if i % 5 == 0:\n",
    "        print(i, \"mutations:\", repr(inp))\n",
    "    inp = mutate(inp)"
   ]
  },
  {
   "cell_type": "code",
   "execution_count": null,
   "id": "6cfd6632",
   "metadata": {},
   "outputs": [],
   "source": [
    "from fuzzingbook.Fuzzer import Fuzzer\n",
    "\n",
    "\n",
    "class MutationFuzzer(Fuzzer):\n",
    "    def __init__(\n",
    "        self, seed: List[str], min_mutations: int = 2, max_mutations: int = 10\n",
    "    ) -> None:\n",
    "        self.seed = seed\n",
    "        self.min_mutations = min_mutations\n",
    "        self.max_mutations = max_mutations\n",
    "        self.reset()\n",
    "\n",
    "    def reset(self) -> None:\n",
    "        self.population = self.seed\n",
    "        self.seed_index = 0"
   ]
  },
  {
   "cell_type": "code",
   "execution_count": null,
   "id": "8cdb20fa",
   "metadata": {},
   "outputs": [],
   "source": [
    "class MutationFuzzer(MutationFuzzer):\n",
    "    def mutate(self, inp: str) -> str:\n",
    "        return mutate(inp)\n",
    "\n",
    "\n",
    "class MutationFuzzer(MutationFuzzer):\n",
    "    def create_candidate(self) -> str:\n",
    "        candidate = random.choice(self.population)\n",
    "        trials = random.randint(self.min_mutations, self.max_mutations)\n",
    "\n",
    "        for _ in range(trials):\n",
    "            candidate = self.mutate(candidate)\n",
    "        return candidate\n",
    "\n",
    "\n",
    "class MutationFuzzer(MutationFuzzer):\n",
    "    def fuzz(self) -> str:\n",
    "        if self.seed_index < len(self.seed):\n",
    "            self.inp = self.seed[self.seed_index]\n",
    "            self.seed_index += 1\n",
    "        else:\n",
    "            self.inp = self.create_candidate()\n",
    "        return self.inp"
   ]
  },
  {
   "cell_type": "code",
   "execution_count": 25,
   "id": "3711403a",
   "metadata": {},
   "outputs": [
    {
     "data": {
      "text/plain": [
       "'http://www.google.com/search?q=fuzzing'"
      ]
     },
     "execution_count": 25,
     "metadata": {},
     "output_type": "execute_result"
    }
   ],
   "source": [
    "seed_input = \"http://www.google.com/search?q=fuzzing\"\n",
    "mutation_fuzzer = MutationFuzzer(seed=[seed_input])\n",
    "mutation_fuzzer.fuzz()"
   ]
  },
  {
   "cell_type": "code",
   "execution_count": 26,
   "id": "e6721848",
   "metadata": {},
   "outputs": [
    {
     "name": "stdout",
     "output_type": "stream",
     "text": [
      "http:'/www\u000egoogle.com/sEarch?qfuzing\n",
      "http://ww.gogle.ceom/earch?q=fuzzing\n"
     ]
    }
   ],
   "source": [
    "print(mutation_fuzzer.fuzz())\n",
    "print(mutation_fuzzer.fuzz())"
   ]
  },
  {
   "cell_type": "code",
   "execution_count": null,
   "id": "f6217f21",
   "metadata": {},
   "outputs": [
    {
     "data": {
      "text/plain": [
       "(True, 'PASS')"
      ]
     },
     "execution_count": 27,
     "metadata": {},
     "output_type": "execute_result"
    }
   ],
   "source": [
    "from fuzzingbook.Fuzzer import Runner\n",
    "\n",
    "\n",
    "class FunctionRunner(Runner):\n",
    "    def __init__(self, function: Callable) -> None:\n",
    "        self.function = function\n",
    "\n",
    "    def run_function(self, inp: str) -> Any:\n",
    "        return self.function(inp)\n",
    "\n",
    "    def run(self, inp: str) -> Tuple[Any, str]:\n",
    "        try:\n",
    "            result = self.run_function(inp)\n",
    "            outcome = self.PASS\n",
    "        except Exception:\n",
    "            result = None\n",
    "            outcome = self.FAIL\n",
    "\n",
    "        return result, outcome\n",
    "\n",
    "\n",
    "http_runner = FunctionRunner(http_program)\n",
    "http_runner.run(\"https://foo.bar\")"
   ]
  },
  {
   "cell_type": "code",
   "execution_count": null,
   "id": "651f6b90",
   "metadata": {},
   "outputs": [],
   "source": [
    "from fuzzingbook.Coverage import Coverage, population_coverage, Location"
   ]
  },
  {
   "cell_type": "code",
   "execution_count": null,
   "id": "b3e0a943",
   "metadata": {},
   "outputs": [
    {
     "name": "stdout",
     "output_type": "stream",
     "text": [
      "[('urlparse', 396), ('urlparse', 402), ('_coerce_args', 125), ('_coerce_args', 131), ('http_program', 3)]\n"
     ]
    }
   ],
   "source": [
    "class FunctionCoverageRunner(FunctionRunner):\n",
    "    def run_function(self, inp: str) -> Any:\n",
    "        with Coverage() as cov:\n",
    "            try:\n",
    "                result = super().run_function(inp)\n",
    "            except Exception as exc:\n",
    "                self._coverage = cov.coverage()\n",
    "                raise exc\n",
    "        self._coverage = cov.coverage()\n",
    "        return result\n",
    "\n",
    "    def coverage(self) -> Set[Location]:\n",
    "        return self._coverage\n",
    "\n",
    "\n",
    "http_runner = FunctionCoverageRunner(http_program)\n",
    "http_runner.run(\"https://foo.bar/\")\n",
    "\n",
    "print(list(http_runner.coverage())[:5])"
   ]
  },
  {
   "cell_type": "code",
   "execution_count": null,
   "id": "d451a7d0",
   "metadata": {},
   "outputs": [],
   "source": [
    "class MutationCoverageFuzzer(MutationFuzzer):\n",
    "    def reset(self) -> None:\n",
    "        super().reset()\n",
    "        self.coverages_seen: Set[frozenset] = set()\n",
    "        self.population = []\n",
    "\n",
    "    def run(self, runner: FunctionCoverageRunner) -> Any:\n",
    "        result, outcome = super().run(runner)\n",
    "        new_coverage = frozenset(runner.coverage())\n",
    "        if outcome == Runner.PASS and new_coverage not in self.coverages_seen:\n",
    "            self.population.append(self.inp)\n",
    "            self.coverages_seen.add(new_coverage)\n",
    "\n",
    "        return result"
   ]
  },
  {
   "cell_type": "code",
   "execution_count": 35,
   "id": "f0a5d593",
   "metadata": {},
   "outputs": [
    {
     "data": {
      "text/plain": [
       "['http://www.google.com/search?q=fuzzing',\n",
       " 'http://www#.google*com/search?q=fuzzing',\n",
       " 'http://wcww.google.com/search?q=fuJzzinc',\n",
       " 'http://wcww.googleN.comM/searchq=buJzzinc',\n",
       " 'http://wcwwgoogleN.cooMsearchq=buJzz4inc',\n",
       " 'http://wcww.Cgoogle.com/{;eerch?q=fuJzzinc',\n",
       " 'http://wcww.Cgogjle.com/{;eerch;q=fuJzzinc',\n",
       " 'http://cwv.CgoGgjle.com/{;eerch;q=f/uJzzinc',\n",
       " 'http://wcww.goVC\\x7fgle.Ycom/search?q=fuJzzin#',\n",
       " 'http://av.CgoGjleR.com/{;eech;u#=d/uJzz7in[c',\n",
       " 'http://av.goEjlWeR>com/{;:%ech?u#5d/ujzzS7in[c',\n",
       " 'http://wcw7.Cgogle3com/{=;egr/ch?=fuJzzinc',\n",
       " 'http://av.oEjlWeR.gom/{;%Ech/u#5d/ujzzgS\\x17in[c',\n",
       " \"htTp://wkwD7.Crg'le3coNm/{=;egr/ch?=fUuJzjin#\"]"
      ]
     },
     "execution_count": 35,
     "metadata": {},
     "output_type": "execute_result"
    }
   ],
   "source": [
    "seed_input = \"http://www.google.com/search?q=fuzzing\"\n",
    "mutation_fuzzer = MutationCoverageFuzzer(seed=[seed_input])\n",
    "mutation_fuzzer.runs(http_runner, trials=10000)\n",
    "mutation_fuzzer.population"
   ]
  },
  {
   "cell_type": "code",
   "execution_count": null,
   "id": "2be5c208",
   "metadata": {},
   "outputs": [
    {
     "data": {
      "text/plain": [
       "Text(0, 0.5, 'lines covered')"
      ]
     },
     "execution_count": 36,
     "metadata": {},
     "output_type": "execute_result"
    },
    {
     "data": {
      "image/png": "[encoded data removed]",
      "text/plain": [
       "<Figure size 640x480 with 1 Axes>"
      ]
     },
     "metadata": {},
     "output_type": "display_data"
    }
   ],
   "source": [
    "all_coverage, cumulative_coverage = population_coverage(\n",
    "    mutation_fuzzer.population, http_program\n",
    ")\n",
    "\n",
    "import matplotlib.pyplot as plt\n",
    "\n",
    "plt.plot(cumulative_coverage)\n",
    "plt.title(\"Coverage of urlparse() with random inputs\")\n",
    "plt.xlabel(\"No of inputs\")\n",
    "plt.ylabel(\"lines covered\")"
   ]
  },
  {
   "cell_type": "code",
   "execution_count": null,
   "id": "df68853b",
   "metadata": {},
   "outputs": [],
   "source": [
    "from fuzzingbook.Coverage import cgi_decode\n",
    "\n",
    "seed = [\"Hello world\"]\n",
    "cgi_runner = FunctionCoverageRunner(cgi_decode)\n",
    "m = MutationCoverageFuzzer(seed)\n",
    "results = m.runs(cgi_runner, 10000)"
   ]
  },
  {
   "cell_type": "code",
   "execution_count": 50,
   "id": "5f1835b9",
   "metadata": {},
   "outputs": [
    {
     "data": {
      "text/plain": [
       "['Hello world', 'Hel `wv+ld', '\\x08%eELmo worl', '%eEL-So+ wo2,']"
      ]
     },
     "execution_count": 50,
     "metadata": {},
     "output_type": "execute_result"
    }
   ],
   "source": [
    "m.population"
   ]
  },
  {
   "cell_type": "code",
   "execution_count": 51,
   "id": "0420805a",
   "metadata": {},
   "outputs": [
    {
     "data": {
      "text/plain": [
       "{('cgi_decode', 207),\n",
       " ('cgi_decode', 208),\n",
       " ('cgi_decode', 209),\n",
       " ('cgi_decode', 210),\n",
       " ('cgi_decode', 211),\n",
       " ('cgi_decode', 214),\n",
       " ('cgi_decode', 215),\n",
       " ('cgi_decode', 216),\n",
       " ('cgi_decode', 217),\n",
       " ('cgi_decode', 218),\n",
       " ('cgi_decode', 220),\n",
       " ('cgi_decode', 229),\n",
       " ('cgi_decode', 230),\n",
       " ('cgi_decode', 231),\n",
       " ('run_function', 8)}"
      ]
     },
     "execution_count": 51,
     "metadata": {},
     "output_type": "execute_result"
    }
   ],
   "source": [
    "cgi_runner.coverage()"
   ]
  },
  {
   "cell_type": "code",
   "execution_count": null,
   "id": "cd0c7d22",
   "metadata": {},
   "outputs": [],
   "source": [
    "all_coverage, cumulative_coverage = population_coverage(m.population, cgi_decode)"
   ]
  },
  {
   "cell_type": "code",
   "execution_count": null,
   "id": "e25eee6d",
   "metadata": {},
   "outputs": [
    {
     "data": {
      "text/plain": [
       "Text(0, 0.5, 'lines covered')"
      ]
     },
     "execution_count": 53,
     "metadata": {},
     "output_type": "execute_result"
    },
    {
     "data": {
      "image/png": "[encoded data removed]",
      "text/plain": [
       "<Figure size 640x480 with 1 Axes>"
      ]
     },
     "metadata": {},
     "output_type": "display_data"
    }
   ],
   "source": [
    "plt.plot(cumulative_coverage)\n",
    "plt.title(\"Coverage of cgi_decode() with random inputs\")\n",
    "plt.xlabel(\"# of inputs\")\n",
    "plt.ylabel(\"lines covered\")"
   ]
  },
  {
   "cell_type": "code",
   "execution_count": null,
   "id": "38b34b1b",
   "metadata": {},
   "outputs": [],
   "source": [
    "from fuzzingbook.Fuzzer import ProgramRunner\n",
    "\n",
    "seed = [\"1 + 1\"]\n",
    "bc = ProgramRunner(program=\"bc\")\n",
    "m = MutationFuzzer(seed)\n",
    "outcomes = m.runs(bc, trials=100)"
   ]
  },
  {
   "cell_type": "code",
   "execution_count": 60,
   "id": "8d10000e",
   "metadata": {},
   "outputs": [
    {
     "data": {
      "text/plain": [
       "[(CompletedProcess(args='bc', returncode=0, stdout='', stderr='(standard_in) 1: syntax error\\n'),\n",
       "  'PASS'),\n",
       " (CompletedProcess(args='bc', returncode=0, stdout='', stderr='(standard_in) 1: syntax error\\n'),\n",
       "  'PASS'),\n",
       " (CompletedProcess(args='bc', returncode=0, stdout='', stderr='(standard_in) 1: illegal character: `\\n(standard_in) 1: syntax error\\n'),\n",
       "  'PASS')]"
      ]
     },
     "execution_count": 60,
     "metadata": {},
     "output_type": "execute_result"
    }
   ],
   "source": [
    "outcomes[:3]"
   ]
  },
  {
   "cell_type": "code",
   "execution_count": null,
   "id": "d24cabab",
   "metadata": {},
   "outputs": [
    {
     "data": {
      "text/plain": [
       "0"
      ]
     },
     "execution_count": 57,
     "metadata": {},
     "output_type": "execute_result"
    }
   ],
   "source": [
    "sum(1 for completed_process, outcome in outcomes if completed_process == \"\")"
   ]
  },
  {
   "cell_type": "code",
   "execution_count": null,
   "id": "62f92459",
   "metadata": {},
   "outputs": [],
   "source": []
  }
 ],
 "metadata": {
  "kernelspec": {
   "display_name": "fuzzing",
   "language": "python",
   "name": "python3"
  },
  "language_info": {
   "codemirror_mode": {
    "name": "ipython",
    "version": 3
   },
   "file_extension": ".py",
   "mimetype": "text/x-python",
   "name": "python",
   "nbconvert_exporter": "python",
   "pygments_lexer": "ipython3",
   "version": "3.11.2"
  }
 },
 "nbformat": 4,
 "nbformat_minor": 5
}
