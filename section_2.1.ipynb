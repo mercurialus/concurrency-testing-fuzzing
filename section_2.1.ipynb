{
 "cells": [
  {
   "cell_type": "code",
   "execution_count": 3,
   "id": "6817e26e",
   "metadata": {},
   "outputs": [],
   "source": [
    "from typing import Dict, Tuple, Union, List, Any\n",
    "from fuzzingbook.Fuzzer import RandomFuzzer"
   ]
  },
  {
   "cell_type": "code",
   "execution_count": 4,
   "id": "d360467e",
   "metadata": {},
   "outputs": [
    {
     "data": {
      "text/plain": [
       "\"6/0'#2#$762 40'5?(;0 4'5(:#!/>  -%?-*?5<*>3 5'7!#%6#964$04'!4/;.>7<></0\""
      ]
     },
     "execution_count": 4,
     "metadata": {},
     "output_type": "execute_result"
    }
   ],
   "source": [
    "random_fuzzer = RandomFuzzer()\n",
    "random_fuzzer.fuzz()"
   ]
  },
  {
   "cell_type": "code",
   "execution_count": 5,
   "id": "c56890d8",
   "metadata": {},
   "outputs": [
    {
     "name": "stdout",
     "output_type": "stream",
     "text": [
      "Produce strings of `min_length` to `max_length` characters\n",
      "           in the range [`char_start`, `char_start` + `char_range`)\n"
     ]
    }
   ],
   "source": [
    "print(RandomFuzzer.__init__.__doc__)"
   ]
  },
  {
   "cell_type": "code",
   "execution_count": 6,
   "id": "2d6945cf",
   "metadata": {},
   "outputs": [
    {
     "data": {
      "text/plain": [
       "'fyjdivseknsa'"
      ]
     },
     "execution_count": 6,
     "metadata": {},
     "output_type": "execute_result"
    }
   ],
   "source": [
    "random_fuzzer = RandomFuzzer(min_length=10, max_length=20, char_start=97, char_range=26)\n",
    "random_fuzzer.fuzz()"
   ]
  },
  {
   "cell_type": "code",
   "execution_count": 7,
   "id": "1dec5a46",
   "metadata": {},
   "outputs": [
    {
     "name": "stdout",
     "output_type": "stream",
     "text": [
      "rkuslwbawv\n"
     ]
    },
    {
     "data": {
      "text/plain": [
       "('rkuslwbawv', 'UNRESOLVED')"
      ]
     },
     "execution_count": 7,
     "metadata": {},
     "output_type": "execute_result"
    }
   ],
   "source": [
    "from fuzzingbook.Fuzzer import PrintRunner\n",
    "\n",
    "print_runner = PrintRunner()\n",
    "random_fuzzer.run(print_runner)"
   ]
  },
  {
   "cell_type": "code",
   "execution_count": 8,
   "id": "518ed50d",
   "metadata": {},
   "outputs": [
    {
     "data": {
      "text/plain": [
       "(CompletedProcess(args='cat', returncode=0, stdout='iivzzfzkxcijevjmg', stderr=''),\n",
       " 'PASS')"
      ]
     },
     "execution_count": 8,
     "metadata": {},
     "output_type": "execute_result"
    }
   ],
   "source": [
    "from fuzzingbook.Fuzzer import ProgramRunner\n",
    "\n",
    "cat = ProgramRunner(\"cat\")\n",
    "random_fuzzer.run(cat)"
   ]
  },
  {
   "cell_type": "code",
   "execution_count": null,
   "id": "d6b4f523",
   "metadata": {},
   "outputs": [],
   "source": [
    "import random\n",
    "\n",
    "\n",
    "def fuzzer(max_length: int = 100, char_start: int = 32, char_range: int = 32) -> str:\n",
    "    string_length = random.randrange(0, max_length + 1)\n",
    "    out = \"\"\n",
    "    for _ in range(string_length):\n",
    "        out += chr(random.randrange(char_start, char_start + char_range))\n",
    "    return out"
   ]
  },
  {
   "cell_type": "code",
   "execution_count": 10,
   "id": "86e0bc15",
   "metadata": {},
   "outputs": [
    {
     "data": {
      "text/plain": [
       "'/44;3$('"
      ]
     },
     "execution_count": 10,
     "metadata": {},
     "output_type": "execute_result"
    }
   ],
   "source": [
    "fuzzer()"
   ]
  },
  {
   "cell_type": "code",
   "execution_count": 11,
   "id": "a7280ddd",
   "metadata": {},
   "outputs": [
    {
     "data": {
      "text/plain": [
       "'^te!KD\\x1c77j6Irc\\x1bG[\\x1a(YCOnLY^f?tCl\\x1dvPL39os!)xngH!K0Y\\x1b18xjRxWK%26xqBL.[![c+IXZkJV37b\\'8/7^p3jN[AGb&x`$2Y* j>z&rR8D\\x1b?+8G?LS7Xd(CvN!eMZX@4\\x1b.*:B^DO4f+0qA!y/xR^z%M>5$,9\\'S-\\x1dctRIEiI8h]mf/ze-H;VR\\x1d!<J3- Ww8SIEs0sp\\'D_9$$\\x1cJxpbA:D8NKG_DXIp\\x1a#\"R\\x1c86>tW8y\\'gNm2o77`f0\"\"yD\\x1a@o7\\x1e)s7WhL8>\\x1bf9 6%sa%68Tx[O&f5ei<cp<D)CTGD!?\\x1c8\"WdPUs,oHor_qfz3:a,\"XJWOI\\x1a4oALI^T%);L^b2aqGg`\\x1d\"2\\x1cVOi!gTiar&/s,-7\\\\WiFY^\\x1f-Uh:kn^(\\x1f*Lw\\x1b[zDIOP^E^J4HwxTq*@<v-Z>vN:L;Mh\\x1dRk!Tk3]*xnMJcU#LH!TP\\x1e $a\\x1d <\\'=oGum^A-A%UW\"\\x1f/TxRWr2\\x1a\\x1aj!U(,.o_K00K5 v`GQe9KaZvil]5#p9Q\\x1cB\\x1d\\x1bly\\x1aO;l=t-!=(O+^exjIU(\\x1eNQ)1\\x1a8>?6G*OZRP\\x1b,Qex!BDFvd:CKZr\\x1eJ*kNhZKa\\x1fMt9%6v#78J[7m`_3TmP^*/WJmNm$[u\\'Y,m!?]3\\x1a8MYHqGv9Ku/\\x1a-#Zl\\\\!LEo\\'16EVB3pJ3& g+\\\\S/H\\x1aIFs\\x1dNmv\\\\ZW(i`Xg9P)R](a#GXfUpj-s0!\\x1f`)\\x1elt)_?4\\x1dZDl%Gs.TvQ1(x\\\\[SOznY5Cl[BLx8@\\\\&M\\x1c\\'Nv.B;\\x1bgk:L;$v%tpQ\\x1fT]\\\\?-MUcQG=Irnx$fC+!,Kz\\x1bzP*G\\x1ak\"X[\\x1e \\x1dBF\\x1fR_b\\x1b=YCO5dlaY@qWi>i@\\x1eS5IL4fjc\\x1aKDDFT\\'HRT@.1A\\'/?sg\"rq7Yfx+\\x1dqn:6?sB3zR-H!:7\\'EA%80/i2-ycSGa:.-\"'"
      ]
     },
     "execution_count": 11,
     "metadata": {},
     "output_type": "execute_result"
    }
   ],
   "source": [
    "fuzzer(1000, ord(\"a\"), 26)"
   ]
  },
  {
   "cell_type": "code",
   "execution_count": 12,
   "id": "c5dd07f5",
   "metadata": {},
   "outputs": [
    {
     "name": "stdout",
     "output_type": "stream",
     "text": [
      "/tmp/tmpk01s5uxn/input.txt\n"
     ]
    }
   ],
   "source": [
    "import os\n",
    "import tempfile\n",
    "\n",
    "basename = \"input.txt\"\n",
    "tempdir = tempfile.mkdtemp()\n",
    "FILE = os.path.join(tempdir, basename)\n",
    "print(FILE)"
   ]
  },
  {
   "cell_type": "code",
   "execution_count": 13,
   "id": "adba57f1",
   "metadata": {},
   "outputs": [
    {
     "name": "stdout",
     "output_type": "stream",
     "text": [
      "-\"6*#&%:+&!60>905&/6-\"9# 872 4*&7.#&#1*(+!>=>8\n"
     ]
    }
   ],
   "source": [
    "data = fuzzer()\n",
    "with open(FILE, \"w\") as f:\n",
    "    f.write(data)\n",
    "\n",
    "contents = open(FILE).read()\n",
    "print(contents)\n",
    "assert contents == data"
   ]
  },
  {
   "cell_type": "code",
   "execution_count": 14,
   "id": "afb0467e",
   "metadata": {},
   "outputs": [],
   "source": [
    "import subprocess\n",
    "\n",
    "program = \"bc\"\n",
    "with open(FILE, \"w\") as f:\n",
    "    f.write(\"2+2\\n\")\n",
    "result = subprocess.run(\n",
    "    [program, FILE],\n",
    "    stdin=subprocess.PIPE,\n",
    "    stdout=subprocess.PIPE,\n",
    "    universal_newlines=True,\n",
    ")"
   ]
  },
  {
   "cell_type": "code",
   "execution_count": 15,
   "id": "03af3cd5",
   "metadata": {},
   "outputs": [
    {
     "data": {
      "text/plain": [
       "'4\\n'"
      ]
     },
     "execution_count": 15,
     "metadata": {},
     "output_type": "execute_result"
    }
   ],
   "source": [
    "result.stdout"
   ]
  },
  {
   "cell_type": "code",
   "execution_count": 16,
   "id": "55f82dea",
   "metadata": {},
   "outputs": [
    {
     "data": {
      "text/plain": [
       "0"
      ]
     },
     "execution_count": 16,
     "metadata": {},
     "output_type": "execute_result"
    }
   ],
   "source": [
    "result.returncode"
   ]
  },
  {
   "cell_type": "code",
   "execution_count": 17,
   "id": "b00aea44",
   "metadata": {},
   "outputs": [],
   "source": [
    "result.stderr"
   ]
  },
  {
   "cell_type": "code",
   "execution_count": 18,
   "id": "93dc1bdb",
   "metadata": {},
   "outputs": [],
   "source": [
    "trials = 100\n",
    "program = \"bc\"\n",
    "\n",
    "runs = []\n",
    "\n",
    "for i in range(trials):\n",
    "    data = fuzzer()\n",
    "    with open(FILE, \"w\") as f:\n",
    "        result = subprocess.run(\n",
    "            [program, FILE],\n",
    "            stdin=subprocess.PIPE,\n",
    "            stdout=subprocess.PIPE,\n",
    "            universal_newlines=True,\n",
    "        )\n",
    "\n",
    "        runs.append((data, result))"
   ]
  },
  {
   "cell_type": "code",
   "execution_count": 19,
   "id": "52aa207c",
   "metadata": {},
   "outputs": [
    {
     "data": {
      "text/plain": [
       "0"
      ]
     },
     "execution_count": 19,
     "metadata": {},
     "output_type": "execute_result"
    }
   ],
   "source": [
    "sum(1 for (data, result) in runs if result.stderr == \"\")"
   ]
  },
  {
   "cell_type": "code",
   "execution_count": 20,
   "id": "0c2608df",
   "metadata": {},
   "outputs": [
    {
     "name": "stdout",
     "output_type": "stream",
     "text": [
      "\"$9-::9+ 2?!>7#()6(1,?2*>*':=&\"\n",
      "None\n"
     ]
    }
   ],
   "source": [
    "errors = [(data, result) for (data, result) in runs if result.stderr != \"\"]\n",
    "(first_data, first_result) = errors[0]\n",
    "print(repr(first_data))\n",
    "print(first_result.stderr)"
   ]
  },
  {
   "cell_type": "code",
   "execution_count": 21,
   "id": "5e87bb04",
   "metadata": {},
   "outputs": [
    {
     "data": {
      "text/plain": [
       "[]"
      ]
     },
     "execution_count": 21,
     "metadata": {},
     "output_type": "execute_result"
    }
   ],
   "source": [
    "[\n",
    "    result.stderr\n",
    "    for (data, result) in runs\n",
    "    if result.stderr\n",
    "    and \"illegal character\" not in result.stderr\n",
    "    and \"parse error\" not in result.stderr\n",
    "    and \"syntax error\" not in result.stderr\n",
    "]"
   ]
  },
  {
   "cell_type": "code",
   "execution_count": 22,
   "id": "31d6e5cb",
   "metadata": {},
   "outputs": [],
   "source": [
    "def crash_if_too_long(s):\n",
    "    buffer = \"Thursday\"\n",
    "    if len(s) > len(buffer):\n",
    "        raise ValueError"
   ]
  },
  {
   "cell_type": "code",
   "execution_count": 23,
   "id": "93aaf335",
   "metadata": {},
   "outputs": [
    {
     "name": "stderr",
     "output_type": "stream",
     "text": [
      "Traceback (most recent call last):\n",
      "  File \"/tmp/ipykernel_23818/2508798955.py\", line 7, in <module>\n",
      "    crash_if_too_long(s)\n",
      "  File \"/tmp/ipykernel_23818/2784561514.py\", line 4, in crash_if_too_long\n",
      "    raise ValueError\n",
      "ValueError (expected)\n"
     ]
    }
   ],
   "source": [
    "from fuzzingbook.Fuzzer import ExpectError\n",
    "\n",
    "trials = 100\n",
    "with ExpectError():\n",
    "    for i in range(trials):\n",
    "        s = fuzzer()\n",
    "        crash_if_too_long(s)"
   ]
  },
  {
   "cell_type": "code",
   "execution_count": 24,
   "id": "544a4cd2",
   "metadata": {},
   "outputs": [],
   "source": [
    "def hang_if_n_space(s):\n",
    "    i = 0\n",
    "    while True:\n",
    "        if i < len(s):\n",
    "            if s[i] == \" \":\n",
    "                break\n",
    "        i += 1"
   ]
  },
  {
   "cell_type": "code",
   "execution_count": 25,
   "id": "7a36f063",
   "metadata": {},
   "outputs": [
    {
     "name": "stderr",
     "output_type": "stream",
     "text": [
      "Traceback (most recent call last):\n",
      "  File \"/tmp/ipykernel_23818/1808899220.py\", line 7, in <module>\n",
      "    hang_if_n_space(s)\n",
      "  File \"/tmp/ipykernel_23818/2837961466.py\", line 3, in hang_if_n_space\n",
      "    while True:\n",
      "  File \"/home/harshil/.pyenvs/fuzzing/lib/python3.11/site-packages/fuzzingbook/Timeout.py\", line 147, in timeout_handler\n",
      "    raise TimeoutError()\n",
      "TimeoutError (expected)\n"
     ]
    }
   ],
   "source": [
    "from fuzzingbook.Fuzzer import ExpectTimeout\n",
    "\n",
    "trials = 100\n",
    "with ExpectTimeout(2):\n",
    "    for _ in range(trials):\n",
    "        s = fuzzer()\n",
    "        hang_if_n_space(s)"
   ]
  },
  {
   "cell_type": "code",
   "execution_count": 26,
   "id": "cf132a20",
   "metadata": {},
   "outputs": [],
   "source": [
    "def collapse_if_too_large(s):\n",
    "    if int(s) > 1000:\n",
    "        raise ValueError"
   ]
  },
  {
   "cell_type": "code",
   "execution_count": null,
   "id": "b52bff50",
   "metadata": {},
   "outputs": [
    {
     "name": "stdout",
     "output_type": "stream",
     "text": [
      "0814143445386117485790103234934\n"
     ]
    }
   ],
   "source": [
    "long_number = fuzzer(100, ord(\"0\"), 10)\n",
    "print(long_number)"
   ]
  },
  {
   "cell_type": "code",
   "execution_count": null,
   "id": "93b44d9d",
   "metadata": {},
   "outputs": [],
   "source": [
    "with open(\"program.c\", \"w\") as f:\n",
    "    f.write(\n",
    "        \"\"\"\n",
    "#include <stdlib.h>\n",
    "#include <string.h>\n",
    "\n",
    "int main(int argc, char** argv) {\n",
    "    /* Create an array with 100 bytes, initialized with 42 */\n",
    "    char *buf = malloc(100);\n",
    "    memset(buf, 42, 100);\n",
    "\n",
    "    /* Read the N-th element, with N being the first command-line argument */\n",
    "    int index = atoi(argv[1]);\n",
    "    char val = buf[index];\n",
    "\n",
    "    /* Clean up memory so we don't leak */\n",
    "    free(buf);\n",
    "    return val;\n",
    "}\n",
    "    \"\"\"\n",
    "    )"
   ]
  },
  {
   "cell_type": "code",
   "execution_count": null,
   "id": "90885656",
   "metadata": {},
   "outputs": [
    {
     "name": "stdout",
     "output_type": "stream",
     "text": [
      "\u001b[36m#\u001b[39;49;00m\u001b[36minclude\u001b[39;49;00m\u001b[37m \u001b[39;49;00m\u001b[37m<stdlib.h>\u001b[39;49;00m\u001b[36m\u001b[39;49;00m\n",
      "\u001b[36m#\u001b[39;49;00m\u001b[36minclude\u001b[39;49;00m\u001b[37m \u001b[39;49;00m\u001b[37m<string.h>\u001b[39;49;00m\u001b[36m\u001b[39;49;00m\n",
      "\u001b[37m\u001b[39;49;00m\n",
      "\u001b[36mint\u001b[39;49;00m\u001b[37m \u001b[39;49;00m\u001b[32mmain\u001b[39;49;00m(\u001b[36mint\u001b[39;49;00m\u001b[37m \u001b[39;49;00margc,\u001b[37m \u001b[39;49;00m\u001b[36mchar\u001b[39;49;00m**\u001b[37m \u001b[39;49;00margv)\u001b[37m \u001b[39;49;00m{\u001b[37m\u001b[39;49;00m\n",
      "\u001b[37m    \u001b[39;49;00m\u001b[37m/* Create an array with 100 bytes, initialized with 42 */\u001b[39;49;00m\u001b[37m\u001b[39;49;00m\n",
      "\u001b[37m    \u001b[39;49;00m\u001b[36mchar\u001b[39;49;00m\u001b[37m \u001b[39;49;00m*buf\u001b[37m \u001b[39;49;00m=\u001b[37m \u001b[39;49;00mmalloc(\u001b[34m100\u001b[39;49;00m);\u001b[37m\u001b[39;49;00m\n",
      "\u001b[37m    \u001b[39;49;00mmemset(buf,\u001b[37m \u001b[39;49;00m\u001b[34m42\u001b[39;49;00m,\u001b[37m \u001b[39;49;00m\u001b[34m100\u001b[39;49;00m);\u001b[37m\u001b[39;49;00m\n",
      "\u001b[37m\u001b[39;49;00m\n",
      "\u001b[37m    \u001b[39;49;00m\u001b[37m/* Read the N-th element, with N being the first command-line argument */\u001b[39;49;00m\u001b[37m\u001b[39;49;00m\n",
      "\u001b[37m    \u001b[39;49;00m\u001b[36mint\u001b[39;49;00m\u001b[37m \u001b[39;49;00mindex\u001b[37m \u001b[39;49;00m=\u001b[37m \u001b[39;49;00matoi(argv[\u001b[34m1\u001b[39;49;00m]);\u001b[37m\u001b[39;49;00m\n",
      "\u001b[37m    \u001b[39;49;00m\u001b[36mchar\u001b[39;49;00m\u001b[37m \u001b[39;49;00mval\u001b[37m \u001b[39;49;00m=\u001b[37m \u001b[39;49;00mbuf[index];\u001b[37m\u001b[39;49;00m\n",
      "\u001b[37m\u001b[39;49;00m\n",
      "\u001b[37m    \u001b[39;49;00m\u001b[37m/* Clean up memory so we don't leak */\u001b[39;49;00m\u001b[37m\u001b[39;49;00m\n",
      "\u001b[37m    \u001b[39;49;00mfree(buf);\u001b[37m\u001b[39;49;00m\n",
      "\u001b[37m    \u001b[39;49;00m\u001b[34mreturn\u001b[39;49;00m\u001b[37m \u001b[39;49;00mval;\u001b[37m\u001b[39;49;00m\n",
      "}\u001b[37m\u001b[39;49;00m\n",
      "\u001b[37m    \u001b[39;49;00m\u001b[37m\u001b[39;49;00m"
     ]
    }
   ],
   "source": [
    "from fuzzingbook.bookutils import print_file\n",
    "\n",
    "print_file(\"program.c\")"
   ]
  },
  {
   "cell_type": "code",
   "execution_count": 43,
   "id": "0e252f38",
   "metadata": {},
   "outputs": [],
   "source": [
    "!clang -fsanitize=address -g -o program program.c"
   ]
  },
  {
   "cell_type": "code",
   "execution_count": 44,
   "id": "5baa2abb",
   "metadata": {},
   "outputs": [
    {
     "name": "stdout",
     "output_type": "stream",
     "text": [
      "42\n"
     ]
    }
   ],
   "source": [
    "!./program 99; echo $?"
   ]
  },
  {
   "cell_type": "code",
   "execution_count": 45,
   "id": "e939e916",
   "metadata": {},
   "outputs": [
    {
     "name": "stdout",
     "output_type": "stream",
     "text": [
      "=================================================================\n",
      "\u001b[1m\u001b[31m==25013==ERROR: AddressSanitizer: heap-buffer-overflow on address 0x60b00000015e at pc 0x561c8cfcdf4c bp 0x7ffc7b120260 sp 0x7ffc7b120258\n",
      "\u001b[1m\u001b[0m\u001b[1m\u001b[34mREAD of size 1 at 0x60b00000015e thread T0\u001b[1m\u001b[0m\n",
      "    #0 0x561c8cfcdf4b in main /home/harshil/concurrency-testing-fuzzing/program.c:12:16\n",
      "    #1 0x7fa54276b249 in __libc_start_call_main csu/../sysdeps/nptl/libc_start_call_main.h:58:16\n",
      "    #2 0x7fa54276b304 in __libc_start_main csu/../csu/libc-start.c:360:3\n",
      "    #3 0x561c8cf10300 in _start (/home/harshil/concurrency-testing-fuzzing/program+0x20300) (BuildId: a7defe265a60f982a1ddea1c01cc23792b1596ff)\n",
      "\n",
      "\u001b[1m\u001b[32m0x60b00000015e is located 10 bytes to the right of 100-byte region [0x60b0000000f0,0x60b000000154)\n",
      "\u001b[1m\u001b[0m\u001b[1m\u001b[35mallocated by thread T0 here:\u001b[1m\u001b[0m\n",
      "    #0 0x561c8cf9314e in __interceptor_malloc (/home/harshil/concurrency-testing-fuzzing/program+0xa314e) (BuildId: a7defe265a60f982a1ddea1c01cc23792b1596ff)\n",
      "    #1 0x561c8cfcdebf in main /home/harshil/concurrency-testing-fuzzing/program.c:7:17\n",
      "    #2 0x7fa54276b249 in __libc_start_call_main csu/../sysdeps/nptl/libc_start_call_main.h:58:16\n",
      "\n",
      "SUMMARY: AddressSanitizer: heap-buffer-overflow /home/harshil/concurrency-testing-fuzzing/program.c:12:16 in main\n",
      "Shadow bytes around the buggy address:\n",
      "  0x0c167fff7fd0: \u001b[1m\u001b[0m00\u001b[1m\u001b[0m \u001b[1m\u001b[0m00\u001b[1m\u001b[0m \u001b[1m\u001b[0m00\u001b[1m\u001b[0m \u001b[1m\u001b[0m00\u001b[1m\u001b[0m \u001b[1m\u001b[0m00\u001b[1m\u001b[0m \u001b[1m\u001b[0m00\u001b[1m\u001b[0m \u001b[1m\u001b[0m00\u001b[1m\u001b[0m \u001b[1m\u001b[0m00\u001b[1m\u001b[0m \u001b[1m\u001b[0m00\u001b[1m\u001b[0m \u001b[1m\u001b[0m00\u001b[1m\u001b[0m \u001b[1m\u001b[0m00\u001b[1m\u001b[0m \u001b[1m\u001b[0m00\u001b[1m\u001b[0m \u001b[1m\u001b[0m00\u001b[1m\u001b[0m \u001b[1m\u001b[0m00\u001b[1m\u001b[0m \u001b[1m\u001b[0m00\u001b[1m\u001b[0m \u001b[1m\u001b[0m00\u001b[1m\u001b[0m\n",
      "  0x0c167fff7fe0: \u001b[1m\u001b[0m00\u001b[1m\u001b[0m \u001b[1m\u001b[0m00\u001b[1m\u001b[0m \u001b[1m\u001b[0m00\u001b[1m\u001b[0m \u001b[1m\u001b[0m00\u001b[1m\u001b[0m \u001b[1m\u001b[0m00\u001b[1m\u001b[0m \u001b[1m\u001b[0m00\u001b[1m\u001b[0m \u001b[1m\u001b[0m00\u001b[1m\u001b[0m \u001b[1m\u001b[0m00\u001b[1m\u001b[0m \u001b[1m\u001b[0m00\u001b[1m\u001b[0m \u001b[1m\u001b[0m00\u001b[1m\u001b[0m \u001b[1m\u001b[0m00\u001b[1m\u001b[0m \u001b[1m\u001b[0m00\u001b[1m\u001b[0m \u001b[1m\u001b[0m00\u001b[1m\u001b[0m \u001b[1m\u001b[0m00\u001b[1m\u001b[0m \u001b[1m\u001b[0m00\u001b[1m\u001b[0m \u001b[1m\u001b[0m00\u001b[1m\u001b[0m\n",
      "  0x0c167fff7ff0: \u001b[1m\u001b[0m00\u001b[1m\u001b[0m \u001b[1m\u001b[0m00\u001b[1m\u001b[0m \u001b[1m\u001b[0m00\u001b[1m\u001b[0m \u001b[1m\u001b[0m00\u001b[1m\u001b[0m \u001b[1m\u001b[0m00\u001b[1m\u001b[0m \u001b[1m\u001b[0m00\u001b[1m\u001b[0m \u001b[1m\u001b[0m00\u001b[1m\u001b[0m \u001b[1m\u001b[0m00\u001b[1m\u001b[0m \u001b[1m\u001b[0m00\u001b[1m\u001b[0m \u001b[1m\u001b[0m00\u001b[1m\u001b[0m \u001b[1m\u001b[0m00\u001b[1m\u001b[0m \u001b[1m\u001b[0m00\u001b[1m\u001b[0m \u001b[1m\u001b[0m00\u001b[1m\u001b[0m \u001b[1m\u001b[0m00\u001b[1m\u001b[0m \u001b[1m\u001b[0m00\u001b[1m\u001b[0m \u001b[1m\u001b[0m00\u001b[1m\u001b[0m\n",
      "  0x0c167fff8000: \u001b[1m\u001b[31mfa\u001b[1m\u001b[0m \u001b[1m\u001b[31mfa\u001b[1m\u001b[0m \u001b[1m\u001b[31mfa\u001b[1m\u001b[0m \u001b[1m\u001b[31mfa\u001b[1m\u001b[0m \u001b[1m\u001b[31mfa\u001b[1m\u001b[0m \u001b[1m\u001b[31mfa\u001b[1m\u001b[0m \u001b[1m\u001b[31mfa\u001b[1m\u001b[0m \u001b[1m\u001b[31mfa\u001b[1m\u001b[0m \u001b[1m\u001b[35mfd\u001b[1m\u001b[0m \u001b[1m\u001b[35mfd\u001b[1m\u001b[0m \u001b[1m\u001b[35mfd\u001b[1m\u001b[0m \u001b[1m\u001b[35mfd\u001b[1m\u001b[0m \u001b[1m\u001b[35mfd\u001b[1m\u001b[0m \u001b[1m\u001b[35mfd\u001b[1m\u001b[0m \u001b[1m\u001b[35mfd\u001b[1m\u001b[0m \u001b[1m\u001b[35mfd\u001b[1m\u001b[0m\n",
      "  0x0c167fff8010: \u001b[1m\u001b[35mfd\u001b[1m\u001b[0m \u001b[1m\u001b[35mfd\u001b[1m\u001b[0m \u001b[1m\u001b[35mfd\u001b[1m\u001b[0m \u001b[1m\u001b[35mfd\u001b[1m\u001b[0m \u001b[1m\u001b[35mfd\u001b[1m\u001b[0m \u001b[1m\u001b[31mfa\u001b[1m\u001b[0m \u001b[1m\u001b[31mfa\u001b[1m\u001b[0m \u001b[1m\u001b[31mfa\u001b[1m\u001b[0m \u001b[1m\u001b[31mfa\u001b[1m\u001b[0m \u001b[1m\u001b[31mfa\u001b[1m\u001b[0m \u001b[1m\u001b[31mfa\u001b[1m\u001b[0m \u001b[1m\u001b[31mfa\u001b[1m\u001b[0m \u001b[1m\u001b[31mfa\u001b[1m\u001b[0m \u001b[1m\u001b[31mfa\u001b[1m\u001b[0m \u001b[1m\u001b[0m00\u001b[1m\u001b[0m \u001b[1m\u001b[0m00\u001b[1m\u001b[0m\n",
      "=>0x0c167fff8020: \u001b[1m\u001b[0m00\u001b[1m\u001b[0m \u001b[1m\u001b[0m00\u001b[1m\u001b[0m \u001b[1m\u001b[0m00\u001b[1m\u001b[0m \u001b[1m\u001b[0m00\u001b[1m\u001b[0m \u001b[1m\u001b[0m00\u001b[1m\u001b[0m \u001b[1m\u001b[0m00\u001b[1m\u001b[0m \u001b[1m\u001b[0m00\u001b[1m\u001b[0m \u001b[1m\u001b[0m00\u001b[1m\u001b[0m \u001b[1m\u001b[0m00\u001b[1m\u001b[0m \u001b[1m\u001b[0m00\u001b[1m\u001b[0m \u001b[1m\u001b[0m04\u001b[1m\u001b[0m[\u001b[1m\u001b[31mfa\u001b[1m\u001b[0m]\u001b[1m\u001b[31mfa\u001b[1m\u001b[0m \u001b[1m\u001b[31mfa\u001b[1m\u001b[0m \u001b[1m\u001b[31mfa\u001b[1m\u001b[0m \u001b[1m\u001b[31mfa\u001b[1m\u001b[0m\n",
      "  0x0c167fff8030: \u001b[1m\u001b[31mfa\u001b[1m\u001b[0m \u001b[1m\u001b[31mfa\u001b[1m\u001b[0m \u001b[1m\u001b[31mfa\u001b[1m\u001b[0m \u001b[1m\u001b[31mfa\u001b[1m\u001b[0m \u001b[1m\u001b[31mfa\u001b[1m\u001b[0m \u001b[1m\u001b[31mfa\u001b[1m\u001b[0m \u001b[1m\u001b[31mfa\u001b[1m\u001b[0m \u001b[1m\u001b[31mfa\u001b[1m\u001b[0m \u001b[1m\u001b[31mfa\u001b[1m\u001b[0m \u001b[1m\u001b[31mfa\u001b[1m\u001b[0m \u001b[1m\u001b[31mfa\u001b[1m\u001b[0m \u001b[1m\u001b[31mfa\u001b[1m\u001b[0m \u001b[1m\u001b[31mfa\u001b[1m\u001b[0m \u001b[1m\u001b[31mfa\u001b[1m\u001b[0m \u001b[1m\u001b[31mfa\u001b[1m\u001b[0m \u001b[1m\u001b[31mfa\u001b[1m\u001b[0m\n",
      "  0x0c167fff8040: \u001b[1m\u001b[31mfa\u001b[1m\u001b[0m \u001b[1m\u001b[31mfa\u001b[1m\u001b[0m \u001b[1m\u001b[31mfa\u001b[1m\u001b[0m \u001b[1m\u001b[31mfa\u001b[1m\u001b[0m \u001b[1m\u001b[31mfa\u001b[1m\u001b[0m \u001b[1m\u001b[31mfa\u001b[1m\u001b[0m \u001b[1m\u001b[31mfa\u001b[1m\u001b[0m \u001b[1m\u001b[31mfa\u001b[1m\u001b[0m \u001b[1m\u001b[31mfa\u001b[1m\u001b[0m \u001b[1m\u001b[31mfa\u001b[1m\u001b[0m \u001b[1m\u001b[31mfa\u001b[1m\u001b[0m \u001b[1m\u001b[31mfa\u001b[1m\u001b[0m \u001b[1m\u001b[31mfa\u001b[1m\u001b[0m \u001b[1m\u001b[31mfa\u001b[1m\u001b[0m \u001b[1m\u001b[31mfa\u001b[1m\u001b[0m \u001b[1m\u001b[31mfa\u001b[1m\u001b[0m\n",
      "  0x0c167fff8050: \u001b[1m\u001b[31mfa\u001b[1m\u001b[0m \u001b[1m\u001b[31mfa\u001b[1m\u001b[0m \u001b[1m\u001b[31mfa\u001b[1m\u001b[0m \u001b[1m\u001b[31mfa\u001b[1m\u001b[0m \u001b[1m\u001b[31mfa\u001b[1m\u001b[0m \u001b[1m\u001b[31mfa\u001b[1m\u001b[0m \u001b[1m\u001b[31mfa\u001b[1m\u001b[0m \u001b[1m\u001b[31mfa\u001b[1m\u001b[0m \u001b[1m\u001b[31mfa\u001b[1m\u001b[0m \u001b[1m\u001b[31mfa\u001b[1m\u001b[0m \u001b[1m\u001b[31mfa\u001b[1m\u001b[0m \u001b[1m\u001b[31mfa\u001b[1m\u001b[0m \u001b[1m\u001b[31mfa\u001b[1m\u001b[0m \u001b[1m\u001b[31mfa\u001b[1m\u001b[0m \u001b[1m\u001b[31mfa\u001b[1m\u001b[0m \u001b[1m\u001b[31mfa\u001b[1m\u001b[0m\n",
      "  0x0c167fff8060: \u001b[1m\u001b[31mfa\u001b[1m\u001b[0m \u001b[1m\u001b[31mfa\u001b[1m\u001b[0m \u001b[1m\u001b[31mfa\u001b[1m\u001b[0m \u001b[1m\u001b[31mfa\u001b[1m\u001b[0m \u001b[1m\u001b[31mfa\u001b[1m\u001b[0m \u001b[1m\u001b[31mfa\u001b[1m\u001b[0m \u001b[1m\u001b[31mfa\u001b[1m\u001b[0m \u001b[1m\u001b[31mfa\u001b[1m\u001b[0m \u001b[1m\u001b[31mfa\u001b[1m\u001b[0m \u001b[1m\u001b[31mfa\u001b[1m\u001b[0m \u001b[1m\u001b[31mfa\u001b[1m\u001b[0m \u001b[1m\u001b[31mfa\u001b[1m\u001b[0m \u001b[1m\u001b[31mfa\u001b[1m\u001b[0m \u001b[1m\u001b[31mfa\u001b[1m\u001b[0m \u001b[1m\u001b[31mfa\u001b[1m\u001b[0m \u001b[1m\u001b[31mfa\u001b[1m\u001b[0m\n",
      "  0x0c167fff8070: \u001b[1m\u001b[31mfa\u001b[1m\u001b[0m \u001b[1m\u001b[31mfa\u001b[1m\u001b[0m \u001b[1m\u001b[31mfa\u001b[1m\u001b[0m \u001b[1m\u001b[31mfa\u001b[1m\u001b[0m \u001b[1m\u001b[31mfa\u001b[1m\u001b[0m \u001b[1m\u001b[31mfa\u001b[1m\u001b[0m \u001b[1m\u001b[31mfa\u001b[1m\u001b[0m \u001b[1m\u001b[31mfa\u001b[1m\u001b[0m \u001b[1m\u001b[31mfa\u001b[1m\u001b[0m \u001b[1m\u001b[31mfa\u001b[1m\u001b[0m \u001b[1m\u001b[31mfa\u001b[1m\u001b[0m \u001b[1m\u001b[31mfa\u001b[1m\u001b[0m \u001b[1m\u001b[31mfa\u001b[1m\u001b[0m \u001b[1m\u001b[31mfa\u001b[1m\u001b[0m \u001b[1m\u001b[31mfa\u001b[1m\u001b[0m \u001b[1m\u001b[31mfa\u001b[1m\u001b[0m\n",
      "Shadow byte legend (one shadow byte represents 8 application bytes):\n",
      "  Addressable:           \u001b[1m\u001b[0m00\u001b[1m\u001b[0m\n",
      "  Partially addressable: \u001b[1m\u001b[0m01\u001b[1m\u001b[0m \u001b[1m\u001b[0m02\u001b[1m\u001b[0m \u001b[1m\u001b[0m03\u001b[1m\u001b[0m \u001b[1m\u001b[0m04\u001b[1m\u001b[0m \u001b[1m\u001b[0m05\u001b[1m\u001b[0m \u001b[1m\u001b[0m06\u001b[1m\u001b[0m \u001b[1m\u001b[0m07\u001b[1m\u001b[0m \n",
      "  Heap left redzone:       \u001b[1m\u001b[31mfa\u001b[1m\u001b[0m\n",
      "  Freed heap region:       \u001b[1m\u001b[35mfd\u001b[1m\u001b[0m\n",
      "  Stack left redzone:      \u001b[1m\u001b[31mf1\u001b[1m\u001b[0m\n",
      "  Stack mid redzone:       \u001b[1m\u001b[31mf2\u001b[1m\u001b[0m\n",
      "  Stack right redzone:     \u001b[1m\u001b[31mf3\u001b[1m\u001b[0m\n",
      "  Stack after return:      \u001b[1m\u001b[35mf5\u001b[1m\u001b[0m\n",
      "  Stack use after scope:   \u001b[1m\u001b[35mf8\u001b[1m\u001b[0m\n",
      "  Global redzone:          \u001b[1m\u001b[31mf9\u001b[1m\u001b[0m\n",
      "  Global init order:       \u001b[1m\u001b[36mf6\u001b[1m\u001b[0m\n",
      "  Poisoned by user:        \u001b[1m\u001b[34mf7\u001b[1m\u001b[0m\n",
      "  Container overflow:      \u001b[1m\u001b[34mfc\u001b[1m\u001b[0m\n",
      "  Array cookie:            \u001b[1m\u001b[31mac\u001b[1m\u001b[0m\n",
      "  Intra object redzone:    \u001b[1m\u001b[33mbb\u001b[1m\u001b[0m\n",
      "  ASan internal:           \u001b[1m\u001b[33mfe\u001b[1m\u001b[0m\n",
      "  Left alloca redzone:     \u001b[1m\u001b[34mca\u001b[1m\u001b[0m\n",
      "  Right alloca redzone:    \u001b[1m\u001b[34mcb\u001b[1m\u001b[0m\n",
      "==25013==ABORTING\n"
     ]
    }
   ],
   "source": [
    "!./program 110"
   ]
  },
  {
   "cell_type": "code",
   "execution_count": 46,
   "id": "3911aa03",
   "metadata": {},
   "outputs": [],
   "source": [
    "!rm -fr program program.*"
   ]
  },
  {
   "cell_type": "code",
   "execution_count": null,
   "id": "254be09f",
   "metadata": {},
   "outputs": [],
   "source": [
    "secrets = (\n",
    "    \"<space for reply>\"\n",
    "    + fuzzer(100)\n",
    "    + \"<secret-certificate>\"\n",
    "    + fuzzer(100)\n",
    "    + \"<secret-key>\"\n",
    "    + fuzzer(100)\n",
    "    + \"<other-secrets>\"\n",
    ")"
   ]
  },
  {
   "cell_type": "code",
   "execution_count": 48,
   "id": "a6b0c270",
   "metadata": {},
   "outputs": [],
   "source": [
    "uninitialized_memory_marker = \"deadbeef\"\n",
    "while len(secrets) < 2048:\n",
    "    secrets += uninitialized_memory_marker"
   ]
  },
  {
   "cell_type": "code",
   "execution_count": null,
   "id": "365440ec",
   "metadata": {},
   "outputs": [],
   "source": [
    "def heartbeat(reply: str, length: int, memory: str) -> str:\n",
    "    # Store reply in memory\n",
    "    memory = reply + memory[len(reply) :]\n",
    "\n",
    "    # Send back heartbeat\n",
    "    s = \"\"\n",
    "    for i in range(length):\n",
    "        s += memory[i]\n",
    "    return s"
   ]
  },
  {
   "cell_type": "code",
   "execution_count": 50,
   "id": "fb047da0",
   "metadata": {},
   "outputs": [
    {
     "data": {
      "text/plain": [
       "'potato'"
      ]
     },
     "execution_count": 50,
     "metadata": {},
     "output_type": "execute_result"
    }
   ],
   "source": [
    "heartbeat(\"potato\", 6, memory=secrets)"
   ]
  },
  {
   "cell_type": "code",
   "execution_count": 52,
   "id": "894ba2e1",
   "metadata": {},
   "outputs": [
    {
     "data": {
      "text/plain": [
       "'bird'"
      ]
     },
     "execution_count": 52,
     "metadata": {},
     "output_type": "execute_result"
    }
   ],
   "source": [
    "heartbeat(\"bird\", 4, memory=secrets)"
   ]
  },
  {
   "cell_type": "code",
   "execution_count": 53,
   "id": "4d76eb38",
   "metadata": {},
   "outputs": [
    {
     "data": {
      "text/plain": [
       "'hatace for reply>>.\"(2+49\"?63+?*2:70-285,\\'-*5*7\"&><secret-certificate>=8!5 *\\'+9:)>5<: >07$\"&\".00&5)=\\' & 89\"::!-67\\'262\\'<\\'% ! \"*.-?>)1-#6,,/&-#<secret-key>40=0%4&. (>%#:78-79!>81&+2:+*9):6.,# /7120)4*0!=?9\"043$))/.,:*,)&9&>,>7\\' <other-secrets>deadbeefdeadbeefdeadbeefdeadbeefdeadbeefdeadbeefdeadbeefdeadbeefdeadbeefdeadbeefdeadbeefdeadbeefdeadbeefdeadbeefdeadbeefdeadbeefdeadbeefdeadbeefdeadbeefdeadbeefdeadbeefdeadbeefdeadbeefdeadbeefdeadbeefdeadbeefdeadbeefdeadbeefdeadbeefdeadbeefdeadbeefdeadbeefdea'"
      ]
     },
     "execution_count": 53,
     "metadata": {},
     "output_type": "execute_result"
    }
   ],
   "source": [
    "heartbeat(\"hat\", 500, memory=secrets)"
   ]
  },
  {
   "cell_type": "code",
   "execution_count": null,
   "id": "6e5975f4",
   "metadata": {},
   "outputs": [
    {
     "name": "stderr",
     "output_type": "stream",
     "text": [
      "Traceback (most recent call last):\n",
      "  File \"/tmp/ipykernel_23818/1920461974.py\", line 4, in <module>\n",
      "    assert not s.find(uninitialized_memory_marker)\n",
      "AssertionError (expected)\n"
     ]
    }
   ],
   "source": [
    "with ExpectError():\n",
    "    for _ in range(10):\n",
    "        s = heartbeat(fuzzer(), random.randint(1, 500), memory=secrets)\n",
    "        assert not s.find(uninitialized_memory_marker)\n",
    "        assert not s.find(\"secret\")"
   ]
  },
  {
   "cell_type": "code",
   "execution_count": null,
   "id": "38027891",
   "metadata": {},
   "outputs": [],
   "source": [
    "airport_codes: Dict[str, str] = {\n",
    "    \"YVR\": \"Vancouver\",\n",
    "    \"JFK\": \"New York-JFK\",\n",
    "    \"CDG\": \"Paris-Charles de Gaulle\",\n",
    "    \"CAI\": \"Cairo\",\n",
    "    \"LED\": \"St. Petersburg\",\n",
    "    \"PEK\": \"Beijing\",\n",
    "    \"HND\": \"Tokyo-Haneda\",\n",
    "    \"AKL\": \"Auckland\",\n",
    "}"
   ]
  },
  {
   "cell_type": "code",
   "execution_count": 57,
   "id": "ec595933",
   "metadata": {},
   "outputs": [
    {
     "data": {
      "text/plain": [
       "'Vancouver'"
      ]
     },
     "execution_count": 57,
     "metadata": {},
     "output_type": "execute_result"
    }
   ],
   "source": [
    "airport_codes[\"YVR\"]"
   ]
  },
  {
   "cell_type": "code",
   "execution_count": 58,
   "id": "01888414",
   "metadata": {},
   "outputs": [
    {
     "data": {
      "text/plain": [
       "True"
      ]
     },
     "execution_count": 58,
     "metadata": {},
     "output_type": "execute_result"
    }
   ],
   "source": [
    "\"AKL\" in airport_codes"
   ]
  },
  {
   "cell_type": "code",
   "execution_count": 61,
   "id": "068722c4",
   "metadata": {},
   "outputs": [],
   "source": [
    "def code_rep_chcker(code: str) -> bool:\n",
    "    assert len(code) == 3, \"Airport code must have three characters\" + repr(code)\n",
    "    for c in code:\n",
    "        assert c.isalpha(), \"Non-Letter in airport code: \" + repr(code)\n",
    "        assert c.isupper(), \"Lowercase letter in airport code: \" + repr(code)\n",
    "    return True"
   ]
  },
  {
   "cell_type": "code",
   "execution_count": null,
   "id": "040bf410",
   "metadata": {},
   "outputs": [],
   "source": []
  },
  {
   "cell_type": "code",
   "execution_count": null,
   "id": "e0e9f6e3",
   "metadata": {},
   "outputs": [],
   "source": []
  }
 ],
 "metadata": {
  "kernelspec": {
   "display_name": "fuzzing",
   "language": "python",
   "name": "python3"
  },
  "language_info": {
   "codemirror_mode": {
    "name": "ipython",
    "version": 3
   },
   "file_extension": ".py",
   "mimetype": "text/x-python",
   "name": "python",
   "nbconvert_exporter": "python",
   "pygments_lexer": "ipython3",
   "version": "3.11.2"
  }
 },
 "nbformat": 4,
 "nbformat_minor": 5
}
