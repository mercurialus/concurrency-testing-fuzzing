{
 "cells": [
  {
   "cell_type": "code",
   "execution_count": 1,
   "id": "4f7b87ba",
   "metadata": {},
   "outputs": [],
   "source": [
    "from typing import List, Set, Any, Tuple, Dict, Union\n",
    "from collections.abc import Sequence\n",
    "\n",
    "import random\n",
    "from fuzzingbook.Coverage import population_coverage"
   ]
  },
  {
   "cell_type": "code",
   "execution_count": 2,
   "id": "13027cb5",
   "metadata": {},
   "outputs": [],
   "source": [
    "class Mutator:\n",
    "    def __init__(self) -> None:\n",
    "        self.mutators = [\n",
    "            self.delete_random_character,\n",
    "            self.insert_random_character,\n",
    "            self.flip_random_character,\n",
    "        ]"
   ]
  },
  {
   "cell_type": "code",
   "execution_count": 3,
   "id": "c7a9a91e",
   "metadata": {},
   "outputs": [
    {
     "data": {
      "text/plain": [
       "'ood'"
      ]
     },
     "execution_count": 3,
     "metadata": {},
     "output_type": "execute_result"
    }
   ],
   "source": [
    "class Mutator(Mutator):\n",
    "    def insert_random_character(self, s: str) -> str:\n",
    "        pos = random.randint(0, len(s))\n",
    "        random_character = chr(random.randrange(32, 127))\n",
    "        return s[:pos] + random_character + s[pos:]\n",
    "\n",
    "    def delete_random_character(self, s: str) -> str:\n",
    "        if s == \"\":\n",
    "            return self.insert_random_character(s)\n",
    "\n",
    "        pos = random.randint(0, len(s) - 1)\n",
    "        return s[:pos] + s[pos + 1 :]\n",
    "\n",
    "    def flip_random_character(self, s: str) -> str:\n",
    "        if s == \"\":\n",
    "            return self.insert_random_character\n",
    "\n",
    "        pos = random.randint(0, len(s) - 1)\n",
    "        c = s[pos]\n",
    "        bit = 1 << random.randint(0, 6)\n",
    "        new_c = chr(ord(c) ^ bit)\n",
    "\n",
    "        return s[:pos] + new_c + s[pos + 1 :]\n",
    "\n",
    "    def mutate(self, inp: Any) -> Any:\n",
    "        mutator = random.choice(self.mutators)\n",
    "        return mutator(inp)\n",
    "\n",
    "\n",
    "Mutator().mutate(\"good\")"
   ]
  },
  {
   "cell_type": "code",
   "execution_count": 4,
   "id": "4cb71cef",
   "metadata": {},
   "outputs": [],
   "source": [
    "from fuzzingbook.Coverage import Location\n",
    "\n",
    "\n",
    "class Seed:\n",
    "    def __init__(self, data: str) -> None:\n",
    "        self.data = data\n",
    "        self.coverage: Set[Location] = set()\n",
    "        self.distance: Union[int, float] = -1\n",
    "        self.energy = 0.0\n",
    "\n",
    "    def __str__(self) -> str:\n",
    "        return self.data\n",
    "\n",
    "    __repr__ = __str__"
   ]
  },
  {
   "cell_type": "code",
   "execution_count": 5,
   "id": "17482914",
   "metadata": {},
   "outputs": [],
   "source": [
    "class PowerSchedule:\n",
    "    def __init__(self) -> None:\n",
    "        self.path_frequency: Dict = {}\n",
    "\n",
    "    def assignEnergy(self, population: Sequence[Seed]) -> None:\n",
    "        for seed in population:\n",
    "            seed.energy = 1\n",
    "\n",
    "    def normalizedEnergy(self, population: Sequence[Seed]) -> List[float]:\n",
    "        energy = list(map(lambda seed: seed.energy, population))\n",
    "        sum_energy = sum(energy)\n",
    "        assert sum_energy != 0\n",
    "        norm_energy = list(map(lambda nrg: nrg / sum_energy, energy))\n",
    "        return norm_energy\n",
    "\n",
    "    def choose(self, population: Sequence[Seed]) -> Seed:\n",
    "        self.assignEnergy(population)\n",
    "        norm_energy = self.normalizedEnergy(population)\n",
    "        seed: Seed = random.choices(population, weights=norm_energy)[0]\n",
    "        return seed"
   ]
  },
  {
   "cell_type": "code",
   "execution_count": 6,
   "id": "8161e144",
   "metadata": {},
   "outputs": [],
   "source": [
    "population = [Seed(\"A\"), Seed(\"B\"), Seed(\"C\")]\n",
    "\n",
    "schedule = PowerSchedule()\n",
    "\n",
    "hits = {\"A\": 0, \"B\": 0, \"C\": 0}\n",
    "\n",
    "for i in range(10000):\n",
    "    seed = schedule.choose(population)\n",
    "    hits[seed.data] += 1"
   ]
  },
  {
   "cell_type": "code",
   "execution_count": 7,
   "id": "153fc408",
   "metadata": {},
   "outputs": [
    {
     "data": {
      "text/plain": [
       "{'A': 3373, 'B': 3317, 'C': 3310}"
      ]
     },
     "execution_count": 7,
     "metadata": {},
     "output_type": "execute_result"
    }
   ],
   "source": [
    "hits"
   ]
  },
  {
   "cell_type": "code",
   "execution_count": 8,
   "id": "fdbfc5e0",
   "metadata": {},
   "outputs": [
    {
     "data": {
      "text/plain": [
       "[('crashme', 5), ('run_function', 410)]"
      ]
     },
     "execution_count": 8,
     "metadata": {},
     "output_type": "execute_result"
    }
   ],
   "source": [
    "from fuzzingbook.MutationFuzzer import FunctionCoverageRunner, http_program\n",
    "\n",
    "\n",
    "def crashme(s: str) -> None:\n",
    "    if len(s) > 0 and s[0] == \"b\":\n",
    "        if len(s) > 1 and s[1] == \"a\":\n",
    "            if len(s) > 2 and s[2] == \"d\":\n",
    "                if len(s) > 3 and s[3] == \"!\":\n",
    "                    raise Exception()\n",
    "\n",
    "\n",
    "crashme_runner = FunctionCoverageRunner(crashme)\n",
    "crashme_runner.run(\"good\")\n",
    "list(crashme_runner.coverage())"
   ]
  },
  {
   "cell_type": "code",
   "execution_count": null,
   "id": "129481ce",
   "metadata": {},
   "outputs": [],
   "source": [
    "from fuzzingbook.Fuzzer import Fuzzer\n",
    "\n",
    "\n",
    "class AdvancedMutationFuzzer(Fuzzer):\n",
    "    def __init__(\n",
    "        self, seeds: List[str], mutator: Mutator, schedule: PowerSchedule\n",
    "    ) -> None:\n",
    "        self.seeds = seeds\n",
    "        self.mutator = mutator\n",
    "        self.schedule = schedule\n",
    "        self.inputs: List[str] = []\n",
    "        self.reset()\n",
    "\n",
    "    def reset(self) -> None:\n",
    "        self.population = list(map(lambda x: Seed(x), self.seeds))\n",
    "        self.seed_index = 0\n",
    "\n",
    "    def create_candidate(self) -> str:\n",
    "        seed = self.schedule.choose(self.population)\n",
    "        candidate = seed.data\n",
    "        trials = min(len(candidate), 1 << random.randint(1, 5))\n",
    "        for i in range(trials):\n",
    "            candidate = self.mutator.mutate(candidate)\n",
    "        return candidate\n",
    "\n",
    "    def fuzz(self) -> str:\n",
    "        if self.seed_index < len(self.seeds):\n",
    "            self.inp = self.seeds[self.seed_index]\n",
    "            self.seed_index += 1\n",
    "        else:\n",
    "            self.inp = self.create_candidate()\n",
    "\n",
    "        self.inputs.append(self.inp)\n",
    "\n",
    "        return self.inp"
   ]
  },
  {
   "cell_type": "code",
   "execution_count": null,
   "id": "9daf918b",
   "metadata": {},
   "outputs": [
    {
     "name": "stdout",
     "output_type": "stream",
     "text": [
      "good\n",
      "oo'~\n",
      "{oeood\n"
     ]
    }
   ],
   "source": [
    "seed_input = \"good\"\n",
    "mutation_fuzzer = AdvancedMutationFuzzer([seed_input], Mutator(), PowerSchedule())\n",
    "print(mutation_fuzzer.fuzz())\n",
    "print(mutation_fuzzer.fuzz())\n",
    "print(mutation_fuzzer.fuzz())"
   ]
  },
  {
   "cell_type": "code",
   "execution_count": null,
   "id": "05f8d785",
   "metadata": {},
   "outputs": [],
   "source": [
    "import time\n",
    "\n",
    "n = 30000\n",
    "\n",
    "blackbox_fuzzer = AdvancedMutationFuzzer([seed_input], Mutator(), PowerSchedule())\n",
    "start = time.time()\n",
    "blackbox_fuzzer.runs(FunctionCoverageRunner(crashme), trials=n)\n",
    "end = time.time()"
   ]
  },
  {
   "cell_type": "code",
   "execution_count": null,
   "id": "62471b37",
   "metadata": {},
   "outputs": [
    {
     "data": {
      "text/plain": [
       "'It took the blackbox mutation-based fuzzer 0.38 seconds to generate and execute 30000 inputs.'"
      ]
     },
     "execution_count": 12,
     "metadata": {},
     "output_type": "execute_result"
    }
   ],
   "source": [
    "\"It took the blackbox mutation-based fuzzer %0.2f seconds to generate and execute %d inputs.\" % (\n",
    "    end - start,\n",
    "    n,\n",
    ")"
   ]
  },
  {
   "cell_type": "code",
   "execution_count": null,
   "id": "a69f7b61",
   "metadata": {},
   "outputs": [
    {
     "name": "stdout",
     "output_type": "stream",
     "text": [
      "The blackbox mutation based fuzzer got a max coverage of 2 statements\n"
     ]
    }
   ],
   "source": [
    "_, blackbox_coverage = population_coverage(blackbox_fuzzer.inputs, crashme)\n",
    "bb_max_coverage = max(blackbox_coverage)\n",
    "print(\n",
    "    f\"The blackbox mutation based fuzzer got a max coverage of {bb_max_coverage} statements\"\n",
    ")"
   ]
  },
  {
   "cell_type": "code",
   "execution_count": null,
   "id": "0d9b4b80",
   "metadata": {},
   "outputs": [
    {
     "data": {
      "text/plain": [
       "['good', 'bGo']"
      ]
     },
     "execution_count": 14,
     "metadata": {},
     "output_type": "execute_result"
    }
   ],
   "source": [
    "[seed_input] + [\n",
    "    blackbox_fuzzer.inputs[idx]\n",
    "    for idx in range(len(blackbox_coverage))\n",
    "    if blackbox_coverage[idx] > blackbox_coverage[idx - 1]\n",
    "]"
   ]
  },
  {
   "cell_type": "code",
   "execution_count": null,
   "id": "da36e87d",
   "metadata": {},
   "outputs": [],
   "source": [
    "class GreyboxFuzzer(AdvancedMutationFuzzer):\n",
    "    def reset(self):\n",
    "        super().reset()\n",
    "        self.coverages_seen = set()\n",
    "        self.population = []\n",
    "\n",
    "    def run(self, runner: FunctionCoverageRunner) -> Tuple[Any, str]:\n",
    "        result, outcome = super().run(runner)\n",
    "        new_coverage = frozenset(runner.coverage())\n",
    "        if new_coverage not in self.coverages_seen:\n",
    "            seed = Seed(self.inp)\n",
    "            seed.coverage = runner.coverage()\n",
    "            self.coverages_seen.add(new_coverage)\n",
    "            self.population.append(seed)\n",
    "\n",
    "        return (result, outcome)"
   ]
  },
  {
   "cell_type": "code",
   "execution_count": null,
   "id": "fbdaa39e",
   "metadata": {},
   "outputs": [
    {
     "name": "stdout",
     "output_type": "stream",
     "text": [
      "Time taken by Greybox Fuzzer 0.46, generated 30000 inputs\n"
     ]
    }
   ],
   "source": [
    "seed_input = \"good\"\n",
    "greybox_fuzzer = GreyboxFuzzer([seed_input], Mutator(), PowerSchedule())\n",
    "\n",
    "start = time.time()\n",
    "greybox_fuzzer.runs(FunctionCoverageRunner(crashme), trials=n)\n",
    "end = time.time()\n",
    "print(f\"Time taken by Greybox Fuzzer {end-start:.2f}, generated {n} inputs\")"
   ]
  },
  {
   "cell_type": "code",
   "execution_count": null,
   "id": "0704759f",
   "metadata": {},
   "outputs": [
    {
     "name": "stdout",
     "output_type": "stream",
     "text": [
      "Greybox covered 3 more statemets \n"
     ]
    }
   ],
   "source": [
    "_, greybox_coverage = population_coverage(greybox_fuzzer.inputs, crashme)\n",
    "gb_max_coverage = max(greybox_coverage)\n",
    "print(f\"Greybox covered {gb_max_coverage - bb_max_coverage} more statemets \")"
   ]
  },
  {
   "cell_type": "code",
   "execution_count": 20,
   "id": "39e50b73",
   "metadata": {},
   "outputs": [
    {
     "data": {
      "text/plain": [
       "[good, bg-d, bad, ba d, bad!X`]"
      ]
     },
     "execution_count": 20,
     "metadata": {},
     "output_type": "execute_result"
    }
   ],
   "source": [
    "greybox_fuzzer.population"
   ]
  },
  {
   "cell_type": "code",
   "execution_count": 22,
   "id": "e48dfc2c",
   "metadata": {},
   "outputs": [
    {
     "data": {
      "image/png": "[encoded data removed]",
      "text/plain": [
       "<Figure size 640x480 with 1 Axes>"
      ]
     },
     "metadata": {},
     "output_type": "display_data"
    }
   ],
   "source": [
    "%matplotlib inline\n",
    "import matplotlib.pyplot as plt\n",
    "\n",
    "line_bb, = plt.plot(blackbox_coverage, label=\"Blackbox\")\n",
    "line_gb, = plt.plot(greybox_coverage, label=\"Greybox\")\n",
    "\n",
    "plt.legend(handles=[line_bb, line_gb])\n",
    "plt.title('Coverage over time')\n",
    "plt.xlabel('# Of inputs')\n",
    "plt.ylabel('Lines covered')\n",
    "plt.show()\n"
   ]
  },
  {
   "cell_type": "code",
   "execution_count": null,
   "id": "7d345a53",
   "metadata": {},
   "outputs": [],
   "source": [
    "import pickle, hashlib\n",
    "\n",
    "\n",
    "def getPathID(coverage: Any) -> str:\n",
    "    pickled = pickle.dumps(sorted(coverage))\n",
    "    return hashlib.md5(pickled).hexdigest()"
   ]
  },
  {
   "cell_type": "code",
   "execution_count": null,
   "id": "6b03f92c",
   "metadata": {},
   "outputs": [
    {
     "data": {
      "text/plain": [
       "'It took the fuzzer w/ exponential schedule 0.35 seconds to generate and execute 10000 inputs.'"
      ]
     },
     "execution_count": 26,
     "metadata": {},
     "output_type": "execute_result"
    }
   ],
   "source": [
    "class AFLFastSchedule(PowerSchedule):\n",
    "    def __init__(self, exponent: float) -> None:\n",
    "        self.exponent = exponent\n",
    "\n",
    "    def assignEnergy(self, population: Sequence[Seed]) -> None:\n",
    "        for seed in population:\n",
    "            seed.energy = 1 / (\n",
    "                self.path_frequency[getPathID(seed.coverage)] ** self.exponent\n",
    "            )\n",
    "\n",
    "\n",
    "class CountingGreyboxFuzzer(GreyboxFuzzer):\n",
    "    def reset(self):\n",
    "        super().reset()\n",
    "        self.schedule.path_frequency = {}\n",
    "\n",
    "    def run(self, runner: FunctionCoverageRunner) -> Tuple[Any, str]:\n",
    "        result, outcome = super().run(runner)\n",
    "\n",
    "        path_id = getPathID(runner.coverage())\n",
    "        if path_id not in self.schedule.path_frequency:\n",
    "            self.schedule.path_frequency[path_id] = 1\n",
    "        else:\n",
    "            self.schedule.path_frequency[path_id] += 1\n",
    "\n",
    "        return (result, outcome)\n",
    "\n",
    "\n",
    "n = 10000\n",
    "seed_input = \"good\"\n",
    "fast_schedule = AFLFastSchedule(5)\n",
    "fast_fuzzer = CountingGreyboxFuzzer([seed_input], Mutator(), fast_schedule)\n",
    "start = time.time()\n",
    "fast_fuzzer.runs(FunctionCoverageRunner(crashme), trials=n)\n",
    "end = time.time()\n",
    "\n",
    "\"It took the fuzzer w/ exponential schedule %0.2f seconds to generate and execute %d inputs.\" % (\n",
    "    end - start,\n",
    "    n,\n",
    ")"
   ]
  },
  {
   "cell_type": "code",
   "execution_count": null,
   "id": "1fbd181c",
   "metadata": {},
   "outputs": [
    {
     "data": {
      "image/png": "[encoded data removed]",
      "text/plain": [
       "<Figure size 640x480 with 1 Axes>"
      ]
     },
     "metadata": {},
     "output_type": "display_data"
    }
   ],
   "source": [
    "import numpy as np\n",
    "\n",
    "x_axis = np.arange(len(fast_schedule.path_frequency))\n",
    "y_axis = list(fast_schedule.path_frequency.values())\n",
    "\n",
    "plt.bar(x_axis, y_axis)\n",
    "plt.xticks(x_axis)\n",
    "plt.ylim(0, n)\n",
    "plt"
   ]
  },
  {
   "cell_type": "code",
   "execution_count": 28,
   "id": "b0a6b981",
   "metadata": {},
   "outputs": [
    {
     "name": "stdout",
     "output_type": "stream",
     "text": [
      "             path id 'p'           : path frequency 'f(p)'\n"
     ]
    },
    {
     "data": {
      "text/plain": [
       "{'f1bc2f03020c9cfa40ef926855aa2272': 4931,\n",
       " '44455a9bdbeef103dcdf39eb0614386f': 2394,\n",
       " '11c535c3525708675737c4f60335ec99': 1201,\n",
       " '3cdffdcf11ad785bb46869435d59c204': 809,\n",
       " 'b58f7b3918bc4c35c007bc69e3f34786': 665}"
      ]
     },
     "execution_count": 28,
     "metadata": {},
     "output_type": "execute_result"
    }
   ],
   "source": [
    "print(\"             path id 'p'           : path frequency 'f(p)'\")\n",
    "fast_schedule.path_frequency"
   ]
  }
 ],
 "metadata": {
  "kernelspec": {
   "display_name": "fuzzing",
   "language": "python",
   "name": "python3"
  },
  "language_info": {
   "codemirror_mode": {
    "name": "ipython",
    "version": 3
   },
   "file_extension": ".py",
   "mimetype": "text/x-python",
   "name": "python",
   "nbconvert_exporter": "python",
   "pygments_lexer": "ipython3",
   "version": "3.11.2"
  }
 },
 "nbformat": 4,
 "nbformat_minor": 5
}
