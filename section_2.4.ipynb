{
 "cells": [
  {
   "cell_type": "code",
   "execution_count": 1,
   "id": "4f7b87ba",
   "metadata": {},
   "outputs": [],
   "source": [
    "from typing import List, Set, Any, Tuple, Dict, Union\n",
    "from collections.abc import Sequence\n",
    "\n",
    "import random\n",
    "from fuzzingbook.Coverage import population_coverage"
   ]
  },
  {
   "cell_type": "code",
   "execution_count": 2,
   "id": "13027cb5",
   "metadata": {},
   "outputs": [],
   "source": [
    "class Mutator:\n",
    "    def __init__(self) -> None:\n",
    "        self.mutators = [\n",
    "            self.delete_random_character,\n",
    "            self.insert_random_character,\n",
    "            self.flip_random_character,\n",
    "        ]"
   ]
  },
  {
   "cell_type": "code",
   "execution_count": null,
   "id": "c7a9a91e",
   "metadata": {},
   "outputs": [
    {
     "data": {
      "text/plain": [
       "'gond'"
      ]
     },
     "execution_count": 3,
     "metadata": {},
     "output_type": "execute_result"
    }
   ],
   "source": [
    "class Mutator(Mutator):\n",
    "    def insert_random_character(self, s: str) -> str:\n",
    "        pos = random.randint(0, len(s))\n",
    "        random_character = chr(random.randrange(32, 127))\n",
    "        return s[:pos] + random_character + s[pos:]\n",
    "\n",
    "    def delete_random_character(self, s: str) -> str:\n",
    "        if s == \"\":\n",
    "            return self.insert_random_character(s)\n",
    "\n",
    "        pos = random.randint(0, len(s) - 1)\n",
    "        return s[:pos] + s[pos + 1 :]\n",
    "\n",
    "    def flip_random_character(self, s: str) -> str:\n",
    "        if s == \"\":\n",
    "            return self.insert_random_character\n",
    "\n",
    "        pos = random.randint(0, len(s) - 1)\n",
    "        c = s[pos]\n",
    "        bit = 1 << random.randint(0, 6)\n",
    "        new_c = chr(ord(c) ^ bit)\n",
    "\n",
    "        return s[:pos] + new_c + s[pos + 1 :]\n",
    "\n",
    "    def mutate(self, inp: Any) -> Any:\n",
    "        mutator = random.choice(self.mutators)\n",
    "        return mutator(inp)\n",
    "\n",
    "\n",
    "Mutator().mutate(\"good\")"
   ]
  },
  {
   "cell_type": "code",
   "execution_count": null,
   "id": "4cb71cef",
   "metadata": {},
   "outputs": [],
   "source": [
    "from fuzzingbook.Coverage import Location\n",
    "\n",
    "\n",
    "class Seed:\n",
    "    def __init__(self, data: str) -> None:\n",
    "        self.data = data\n",
    "        self.coverage: Set[Location] = set()\n",
    "        self.distance: Union[int, float] = -1\n",
    "        self.energy = 0.0\n",
    "\n",
    "    def __str__(self) -> str:\n",
    "        return self.data\n",
    "\n",
    "    __repr__ = __str__"
   ]
  },
  {
   "cell_type": "code",
   "execution_count": null,
   "id": "17482914",
   "metadata": {},
   "outputs": [],
   "source": [
    "class PowerSchedule:\n",
    "    def __init__(self) -> None:\n",
    "        self.path_frequency: Dict = {}\n",
    "\n",
    "    def assignEnergy(self, population: Sequence[Seed]) -> None:\n",
    "        for seed in population:\n",
    "            seed.energy = 1\n",
    "\n",
    "    def normalizedEnergy(self, population: Sequence[Seed]) -> List[float]:\n",
    "        energy = list(map(lambda seed: seed.energy, population))\n",
    "        sum_energy = sum(energy)\n",
    "        assert sum_energy != 0\n",
    "        norm_energy = list(map(lambda nrg: nrg / sum_energy, energy))\n",
    "        return norm_energy\n",
    "\n",
    "    def choose(self, population: Sequence[Seed]) -> Seed:\n",
    "        self.assignEnergy(population)\n",
    "        norm_energy = self.normalizedEnergy(population)\n",
    "        seed: Seed = random.choices(population, weights=norm_energy)[0]\n",
    "        return seed"
   ]
  },
  {
   "cell_type": "code",
   "execution_count": null,
   "id": "8161e144",
   "metadata": {},
   "outputs": [],
   "source": [
    "population = [Seed(\"A\"), Seed(\"B\"), Seed(\"C\")]\n",
    "\n",
    "schedule = PowerSchedule()\n",
    "\n",
    "hits = {\"A\": 0, \"B\": 0, \"C\": 0}\n",
    "\n",
    "for i in range(10000):\n",
    "    seed = schedule.choose(population)\n",
    "    hits[seed.data] += 1"
   ]
  },
  {
   "cell_type": "code",
   "execution_count": 12,
   "id": "153fc408",
   "metadata": {},
   "outputs": [
    {
     "data": {
      "text/plain": [
       "{'A': 3355, 'B': 3331, 'C': 3314}"
      ]
     },
     "execution_count": 12,
     "metadata": {},
     "output_type": "execute_result"
    }
   ],
   "source": [
    "hits"
   ]
  },
  {
   "cell_type": "code",
   "execution_count": null,
   "id": "fdbfc5e0",
   "metadata": {},
   "outputs": [
    {
     "data": {
      "text/plain": [
       "[('run_function', 410), ('crashme', 4)]"
      ]
     },
     "execution_count": 13,
     "metadata": {},
     "output_type": "execute_result"
    }
   ],
   "source": [
    "from fuzzingbook.MutationFuzzer import FunctionCoverageRunner, http_program\n",
    "\n",
    "\n",
    "def crashme(s: str) -> None:\n",
    "    if len(s) > 0 and s[0] == \"b\":\n",
    "        if len(s) > 1 and s[1] == \"a\":\n",
    "            if len(s) > 2 and s[2] == \"d\":\n",
    "                if len(s) > 3 and s[3] == \"!\":\n",
    "                    raise Exception()\n",
    "\n",
    "\n",
    "crashme_runner = FunctionCoverageRunner(crashme)\n",
    "crashme_runner.run(\"good\")\n",
    "list(crashme_runner.coverage())"
   ]
  },
  {
   "cell_type": "code",
   "execution_count": null,
   "id": "129481ce",
   "metadata": {},
   "outputs": [],
   "source": [
    "from fuzzingbook.Fuzzer import Fuzzer\n",
    "\n",
    "\n",
    "class AdvancedMutationFuzzer(Fuzzer):\n",
    "    def __init__(\n",
    "        self, seeds: List[str], mutator: Mutator, schedule: PowerSchedule\n",
    "    ) -> None:\n",
    "        self.seeds = seeds\n",
    "        self.mutator = mutator\n",
    "        self.schedule = schedule\n",
    "        self.inputs: List[str] = []\n",
    "        self.reset()"
   ]
  }
 ],
 "metadata": {
  "kernelspec": {
   "display_name": "fuzzing",
   "language": "python",
   "name": "python3"
  },
  "language_info": {
   "codemirror_mode": {
    "name": "ipython",
    "version": 3
   },
   "file_extension": ".py",
   "mimetype": "text/x-python",
   "name": "python",
   "nbconvert_exporter": "python",
   "pygments_lexer": "ipython3",
   "version": "3.11.2"
  }
 },
 "nbformat": 4,
 "nbformat_minor": 5
}
