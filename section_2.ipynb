{
 "cells": [
  {
   "cell_type": "code",
   "execution_count": null,
   "id": "6817e26e",
   "metadata": {},
   "outputs": [],
   "source": [
    "from typing import Dict, Tuple, Union, List, Any\n",
    "from fuzzingbook.Fuzzer import RandomFuzzer"
   ]
  },
  {
   "cell_type": "code",
   "execution_count": 5,
   "id": "d360467e",
   "metadata": {},
   "outputs": [
    {
     "data": {
      "text/plain": [
       "',63&63)#3#8?<-432:25/!\"+>)!6?$8,#>/)&>5,(*<53,>,??):%%9+=7480.#5 2,=9\\';.\"6-6-:?&=<4=2 -3'"
      ]
     },
     "execution_count": 5,
     "metadata": {},
     "output_type": "execute_result"
    }
   ],
   "source": [
    "random_fuzzer = RandomFuzzer()\n",
    "random_fuzzer.fuzz()"
   ]
  },
  {
   "cell_type": "code",
   "execution_count": 6,
   "id": "c56890d8",
   "metadata": {},
   "outputs": [
    {
     "name": "stdout",
     "output_type": "stream",
     "text": [
      "Produce strings of `min_length` to `max_length` characters\n",
      "           in the range [`char_start`, `char_start` + `char_range`)\n"
     ]
    }
   ],
   "source": [
    "print(RandomFuzzer.__init__.__doc__)"
   ]
  },
  {
   "cell_type": "code",
   "execution_count": null,
   "id": "2d6945cf",
   "metadata": {},
   "outputs": [
    {
     "data": {
      "text/plain": [
       "'ktupctwqhi'"
      ]
     },
     "execution_count": 13,
     "metadata": {},
     "output_type": "execute_result"
    }
   ],
   "source": [
    "random_fuzzer = RandomFuzzer(min_length=10, max_length=20, char_start=97, char_range=26)\n",
    "random_fuzzer.fuzz()"
   ]
  },
  {
   "cell_type": "code",
   "execution_count": null,
   "id": "1dec5a46",
   "metadata": {},
   "outputs": [
    {
     "name": "stdout",
     "output_type": "stream",
     "text": [
      "hzjuiwvnmczbjn\n"
     ]
    },
    {
     "data": {
      "text/plain": [
       "('hzjuiwvnmczbjn', 'UNRESOLVED')"
      ]
     },
     "execution_count": 19,
     "metadata": {},
     "output_type": "execute_result"
    }
   ],
   "source": [
    "from fuzzingbook.Fuzzer import PrintRunner\n",
    "\n",
    "print_runner = PrintRunner()\n",
    "random_fuzzer.run(print_runner)"
   ]
  },
  {
   "cell_type": "code",
   "execution_count": null,
   "id": "518ed50d",
   "metadata": {},
   "outputs": [
    {
     "data": {
      "text/plain": [
       "(CompletedProcess(args='cat', returncode=0, stdout='lbyhgvsxwdbbzxrdud', stderr=''),\n",
       " 'PASS')"
      ]
     },
     "execution_count": 20,
     "metadata": {},
     "output_type": "execute_result"
    }
   ],
   "source": [
    "from fuzzingbook.Fuzzer import ProgramRunner\n",
    "\n",
    "cat = ProgramRunner(\"cat\")\n",
    "random_fuzzer.run(cat)"
   ]
  },
  {
   "cell_type": "code",
   "execution_count": null,
   "id": "d6b4f523",
   "metadata": {},
   "outputs": [],
   "source": [
    "import random\n",
    "\n",
    "\n",
    "def fuzzer(max_length: int = 100, char_start: int = 32, char_range: int = 32) -> str:\n",
    "    string_length = random.randrange(0, max_length + 1)\n",
    "\n",
    "    out = \"\"\n",
    "    for i in range(0, string_length):\n",
    "        out += chr(random.randrange(char_range, char_start + char_range))\n",
    "\n",
    "    return out"
   ]
  },
  {
   "cell_type": "code",
   "execution_count": 26,
   "id": "86e0bc15",
   "metadata": {},
   "outputs": [
    {
     "data": {
      "text/plain": [
       "\".9*>:'%(+=5'03' $1693.=;0==?0)(.#3#+;;.1>>!,4&>#*72$;:5$002 -/?,8\""
      ]
     },
     "execution_count": 26,
     "metadata": {},
     "output_type": "execute_result"
    }
   ],
   "source": [
    "fuzzer()"
   ]
  },
  {
   "cell_type": "code",
   "execution_count": null,
   "id": "a7280ddd",
   "metadata": {},
   "outputs": [
    {
     "data": {
      "text/plain": [
       "'eo>Wx2RDW(B4+D#RY]Aech[`R=tP-pP5o RI\\x1bBnihcT@\\x1cOdXkdz:dtzM<A\\x1a:N;RWL?*Dgqhm#p@F b&7AZ!U\\x1c4=sKI\\\\>lI)sMhV+RDGG%Wsw43YIsA%A_5HY-hr650#;C_T:EE4Ndmvm5sVh&5Q/(/)jh:iwu6,/\\x1f<9nL#j\\x1c5,HFafKHj\"\\x1er4PnU6dG5bo\\x1csOfL>pYgAF-<BBrTYF0kki\"weN2QlpDL/m+.H\\x1b\"9JG)0v/-NDdn3P)\\x1fr\"\\x1bY+zYdPB=E>[\\x1ez7irtaq\\\\zPL`L\\x1aPNNz@_Jvb&.(_T.rimwM.(\\'V$t1\"Z\\\\,wrSENWZOaN4\\x1dna\\x1eX>xh\\x1e@`-*ot/jnZ!I3$hG[\\\\I(dVP5P#q'"
      ]
     },
     "execution_count": 28,
     "metadata": {},
     "output_type": "execute_result"
    }
   ],
   "source": [
    "fuzzer(1000, ord(\"a\"), 26)"
   ]
  },
  {
   "cell_type": "code",
   "execution_count": null,
   "id": "c5dd07f5",
   "metadata": {},
   "outputs": [
    {
     "name": "stdout",
     "output_type": "stream",
     "text": [
      "/tmp/tmp8y0rop6n/input.txt\n"
     ]
    }
   ],
   "source": [
    "import os\n",
    "import tempfile\n",
    "\n",
    "basename = \"input.txt\"\n",
    "tempdir = tempfile.mkdtemp()\n",
    "FILE = os.path.join(tempdir, basename)\n",
    "print(FILE)"
   ]
  },
  {
   "cell_type": "code",
   "execution_count": 33,
   "id": "adba57f1",
   "metadata": {},
   "outputs": [
    {
     "name": "stdout",
     "output_type": "stream",
     "text": [
      "40?:*&!4,>0?3.35,<&(+73<57%$&'=9:&4<&5,6 '\"97:,;3# ?#2,$5.3<13)(\n"
     ]
    }
   ],
   "source": [
    "data = fuzzer()\n",
    "with open(FILE, \"w\") as f:\n",
    "    f.write(data)\n",
    "\n",
    "contents = open(FILE).read()\n",
    "print(contents)\n",
    "assert contents == data"
   ]
  },
  {
   "cell_type": "code",
   "execution_count": 34,
   "id": "afb0467e",
   "metadata": {},
   "outputs": [],
   "source": [
    "import subprocess\n",
    "\n",
    "program = \"bc\"\n",
    "with open(FILE, \"w\") as f:\n",
    "    f.write(\"2+2\\n\")\n",
    "result = subprocess.run(\n",
    "    [program, FILE],\n",
    "    stdin=subprocess.PIPE,\n",
    "    stdout=subprocess.PIPE,\n",
    "    universal_newlines=True,\n",
    ")"
   ]
  },
  {
   "cell_type": "code",
   "execution_count": 35,
   "id": "03af3cd5",
   "metadata": {},
   "outputs": [
    {
     "data": {
      "text/plain": [
       "'4\\n'"
      ]
     },
     "execution_count": 35,
     "metadata": {},
     "output_type": "execute_result"
    }
   ],
   "source": [
    "result.stdout"
   ]
  },
  {
   "cell_type": "code",
   "execution_count": 36,
   "id": "55f82dea",
   "metadata": {},
   "outputs": [
    {
     "data": {
      "text/plain": [
       "0"
      ]
     },
     "execution_count": 36,
     "metadata": {},
     "output_type": "execute_result"
    }
   ],
   "source": [
    "result.returncode"
   ]
  },
  {
   "cell_type": "code",
   "execution_count": 37,
   "id": "b00aea44",
   "metadata": {},
   "outputs": [],
   "source": [
    "result.stderr"
   ]
  },
  {
   "cell_type": "code",
   "execution_count": null,
   "id": "93dc1bdb",
   "metadata": {},
   "outputs": [],
   "source": [
    "trials = 100\n",
    "program = \"bc\"\n",
    "\n",
    "runs = []\n",
    "\n",
    "for i in range(trials):\n",
    "    data = fuzzer()\n",
    "    with open(FILE, \"w\") as f:\n",
    "        result = subprocess.run(\n",
    "            [program, FILE],\n",
    "            stdin=subprocess.PIPE,\n",
    "            stdout=subprocess.PIPE,\n",
    "            universal_newlines=True,\n",
    "        )\n",
    "\n",
    "        runs.append((data, result))"
   ]
  },
  {
   "cell_type": "code",
   "execution_count": 45,
   "id": "52aa207c",
   "metadata": {},
   "outputs": [
    {
     "data": {
      "text/plain": [
       "0"
      ]
     },
     "execution_count": 45,
     "metadata": {},
     "output_type": "execute_result"
    }
   ],
   "source": [
    "sum(1 for (data, result) in runs if result.stderr == \"\")"
   ]
  },
  {
   "cell_type": "code",
   "execution_count": null,
   "id": "0c2608df",
   "metadata": {},
   "outputs": [],
   "source": []
  }
 ],
 "metadata": {
  "kernelspec": {
   "display_name": "fuzzing",
   "language": "python",
   "name": "python3"
  },
  "language_info": {
   "codemirror_mode": {
    "name": "ipython",
    "version": 3
   },
   "file_extension": ".py",
   "mimetype": "text/x-python",
   "name": "python",
   "nbconvert_exporter": "python",
   "pygments_lexer": "ipython3",
   "version": "3.11.2"
  }
 },
 "nbformat": 4,
 "nbformat_minor": 5
}
